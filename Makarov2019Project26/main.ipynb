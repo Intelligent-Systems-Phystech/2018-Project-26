{
  "nbformat": 4,
  "nbformat_minor": 0,
  "metadata": {
    "colab": {
      "name": "experiment1.ipynb",
      "version": "0.3.2",
      "provenance": [],
      "collapsed_sections": [],
      "toc_visible": true
    },
    "kernelspec": {
      "name": "python3",
      "display_name": "Python 3"
    },
    "accelerator": "GPU"
  },
  "cells": [
    {
      "metadata": {
        "colab_type": "code",
        "id": "dzpdXgeD2r7M",
        "colab": {}
      },
      "cell_type": "code",
      "source": [
        "!wget https://public.boxcloud.com/d/1/b1!5QeAntoAmSMWTA452DFPA-WOzxh9UW8YVBGS8DSVfrPXGPY7rbyCwy0lxxfSIeJ3a-o67gODUfBQi6Mf8TmR36y8XHh3ljjm_5Z86wLTcRHjde1Ut6jxcWKrpR-ZIzSdY3mLhxFr0sRPAb2sRLb7w7c9CEWaYUKGuaemMlERaEYV_BYb1u1h8NQJm4Uj4Bd13OX8MAHl2xOmMtspo35SwhYq366Isotyz77_Epsc8YnUSuFgRjfx_4I9c1msAG9kDgAStWeAZIZwCGHKOiuPzMWNxwJK1eY6-ag8-6G0_kS8jjc6kKGQmiXH_RFgs74kCgBbS8a3qzm8NYifTBY8RLwrM2zEx3HnGzSOsO_fjfP6erFtBv4qPCIVu3T3K8XMt8KXipQ9-ps_NVilzcNBuwJfM1FZ5Tnqe7W0rZM902X8f7PHSENnLbpg3VuVAhzDX2XyIlPn8h4xkVjhrllEsVnAWz3j_yQx1Oa_hlNmLl5Jp5ykH9mX-P0KyxDLsJykpWzsZ3twJ9rRsRkfoOtGeDPNPr3eJOyv3TMnEun7oDcokuIFPd6UTOUq7Dnn-61ygyZ6ndeHDiNr_0Ky8ZEJdKrkiOhP29OouIwQXT0A6wW_Op6vAUllNLw170AkQT20NnR14NmUH-ylyUponQp_DgsC0MDAhNnOtxwnyQY2Uye3Jnl8oBqOVq5KTgnoPhqbc9J5pzpGItwYNn4X2uaD0xbXnwlorN4hjKIRvtDmyaraQhME7aulAL5NDAGvkISTVLooFNY85Ety8Ndd1KlYxuGwC3iBuRBIMcMXSaf3ZOl0tXaNY1QMxYWDE-_gmKEFI5a_rgUV1IgDcNZlKURXGfmSW8DQN3Ntj8Y1mniJD3PnxHIjFPezXlWJtOv_RODD0V7lQtDLkr95rwJxU09NUI8QC3_BEBXJsn4XTMz44ae7qF0A9NT6Pqlg2HBP3cD6SIXMV59oMDaucpUB_1SOyeyglNxOY3ucaJKzKTvnACnoBwli4nRpCtCn5CbuFjRKNQa57FoUV2rxbJVdnfJqKBaLGTHZKqqKUeX29jhruceSTp2HsJ2Bp-IKiBwwoLMRClU8rrI6kUgbWItxAbYCCU90RtkQ_SmOchPS__W0kg6YKacyeZF0NADK1qXLyPw55VAQ7Kxplmt-JMoJbT7UrQ0HbvnMx1VvhWmMUqBP8LWvY1q5ToGyCzTx_4f9MkQ3Q_6K4e6l0kzcqVCVGIVNQ0YdEhkjd8Xe8Gyq1ZerLd-K8ZX5yWq9UUtcHPyphQUR39pMrI027-6AvuU./download"
      ],
      "execution_count": 0,
      "outputs": []
    },
    {
      "metadata": {
        "id": "vHZ4YrYHE0ob",
        "colab_type": "code",
        "outputId": "a2407dd3-d74c-4908-ebbb-e67fe436d423",
        "colab": {
          "base_uri": "https://localhost:8080/",
          "height": 122
        }
      },
      "cell_type": "code",
      "source": [
        "from google.colab import drive\n",
        "drive.mount('/gdrive')"
      ],
      "execution_count": 0,
      "outputs": [
        {
          "output_type": "stream",
          "text": [
            "Go to this URL in a browser: https://accounts.google.com/o/oauth2/auth?client_id=947318989803-6bn6qk8qdgf4n4g3pfee6491hc0brc4i.apps.googleusercontent.com&redirect_uri=urn%3Aietf%3Awg%3Aoauth%3A2.0%3Aoob&scope=email%20https%3A%2F%2Fwww.googleapis.com%2Fauth%2Fdocs.test%20https%3A%2F%2Fwww.googleapis.com%2Fauth%2Fdrive%20https%3A%2F%2Fwww.googleapis.com%2Fauth%2Fdrive.photos.readonly%20https%3A%2F%2Fwww.googleapis.com%2Fauth%2Fpeopleapi.readonly&response_type=code\n",
            "\n",
            "Enter your authorization code:\n",
            "··········\n",
            "Mounted at /gdrive\n"
          ],
          "name": "stdout"
        }
      ]
    },
    {
      "metadata": {
        "id": "0mEO5cl3E9cM",
        "colab_type": "code",
        "outputId": "201526c1-0ad7-4a37-a292-444d570cffd1",
        "colab": {
          "base_uri": "https://localhost:8080/",
          "height": 34
        }
      },
      "cell_type": "code",
      "source": [
        "!ls \"/gdrive/My Drive/strizh\""
      ],
      "execution_count": 0,
      "outputs": [
        {
          "output_type": "stream",
          "text": [
            "cnn_hist.npy  cnn_search  data.zip  res.zip\n"
          ],
          "name": "stdout"
        }
      ]
    },
    {
      "metadata": {
        "colab_type": "code",
        "id": "g3w4aYrb4-QA",
        "colab": {}
      },
      "cell_type": "code",
      "source": [
        "!mv list_small_test.txt data_publish_v2/\n",
        "!mv list_small_train.txt data_publish_v2/"
      ],
      "execution_count": 0,
      "outputs": []
    },
    {
      "metadata": {
        "id": "r8DlO2MfG_Ls",
        "colab_type": "code",
        "colab": {}
      },
      "cell_type": "code",
      "source": [
        "!cp \"/gdrive/My Drive/strizh/res.zip\" .\n",
        "!cp \"/gdrive/My Drive/strizh/data.zip\" ."
      ],
      "execution_count": 0,
      "outputs": []
    },
    {
      "metadata": {
        "id": "7QfCKDjTOhX1",
        "colab_type": "code",
        "colab": {}
      },
      "cell_type": "code",
      "source": [
        "!unzip res.zip\n",
        "!unzip data.zip"
      ],
      "execution_count": 0,
      "outputs": []
    },
    {
      "metadata": {
        "colab_type": "code",
        "id": "epdCRN6s4fUN",
        "outputId": "ea51905b-760f-45b1-9c92-53aa8b792b4e",
        "colab": {
          "base_uri": "https://localhost:8080/",
          "height": 187
        }
      },
      "cell_type": "code",
      "source": [
        "!pip3 install numpy-quaternion"
      ],
      "execution_count": 0,
      "outputs": [
        {
          "output_type": "stream",
          "text": [
            "Collecting numpy-quaternion\n",
            "\u001b[?25l  Downloading https://files.pythonhosted.org/packages/f3/07/6512b870e10c185ae58b5eb90c878dafc09c0d290d77c0c33b6b5c0d6d2f/numpy-quaternion-2019.3.18.14.33.20.tar.gz (45kB)\n",
            "\u001b[K    100% |████████████████████████████████| 51kB 2.3MB/s \n",
            "\u001b[?25hRequirement already satisfied: numpy>=1.13 in /usr/local/lib/python3.6/dist-packages (from numpy-quaternion) (1.14.6)\n",
            "Building wheels for collected packages: numpy-quaternion\n",
            "  Building wheel for numpy-quaternion (setup.py) ... \u001b[?25ldone\n",
            "\u001b[?25h  Stored in directory: /root/.cache/pip/wheels/48/0d/50/e135a9a478b59c7baff738bed0270ddc9d4072ee2cc25e9d15\n",
            "Successfully built numpy-quaternion\n",
            "Installing collected packages: numpy-quaternion\n",
            "Successfully installed numpy-quaternion-2019.4.10.15.33.25\n"
          ],
          "name": "stdout"
        }
      ]
    },
    {
      "metadata": {
        "colab_type": "code",
        "id": "6ULs8gH22otC",
        "outputId": "9c999af3-9f63-44d2-c235-cc23b463c3ca",
        "colab": {
          "base_uri": "https://localhost:8080/",
          "height": 34
        }
      },
      "cell_type": "code",
      "source": [
        "from regression_cascade import *\n",
        "from sklearn.base import clone\n",
        "from keras.models import clone_model\n",
        "import matplotlib.pyplot as plt"
      ],
      "execution_count": 0,
      "outputs": [
        {
          "output_type": "stream",
          "text": [
            "Using TensorFlow backend.\n"
          ],
          "name": "stderr"
        }
      ]
    },
    {
      "metadata": {
        "id": "YJirXeofYgsc",
        "colab_type": "code",
        "colab": {}
      },
      "cell_type": "code",
      "source": [
        "from sklearn.neighbors import KNeighborsClassifier, KNeighborsRegressor"
      ],
      "execution_count": 0,
      "outputs": []
    },
    {
      "metadata": {
        "colab_type": "code",
        "id": "a4WFlo5T2otQ",
        "outputId": "75f30ced-6692-4e01-ebd3-679872af5e65",
        "colab": {
          "base_uri": "https://localhost:8080/",
          "height": 972
        }
      },
      "cell_type": "code",
      "source": [
        "%%time\n",
        "load_from_list = True\n",
        "data_loaded = False\n",
        "feature_train, label_train, responses_train = None, None, None\n",
        "feature_test, label_test, responses_test = None, None, None\n",
        "class_map = {}\n",
        "train_file_path, test_file_path = None, None\n",
        "# if args.train_test_path:\n",
        "#     train_file_path = args.train_test_path + '/train.npy'\n",
        "#     test_file_path = args.train_test_path + '/test.npy'\n",
        "#     if os.path.exists(train_file_path) and os.path.exists(test_file_path) and os.path.exists(\n",
        "#                     args.train_test_path + '/class_map.txt'):\n",
        "#         print('Loading training set from ', train_file_path)\n",
        "#         train_all = np.load(train_file_path)\n",
        "#         print('Loading testing set from ', test_file_path)\n",
        "#         test_all = np.load(test_file_path)\n",
        "#         feature_train, label_train, responses_train = train_all[:, :-3], train_all[:, -3], train_all[:, -2:]\n",
        "#         feature_test, label_test, responses_test = test_all[:, :-3], test_all[:, -3], test_all[:, -2:]\n",
        "#         with open(args.train_test_path + '/class_map.txt') as f:\n",
        "#             num_classes = int(f.readline().strip())\n",
        "#             for i in range(num_classes):\n",
        "#                 line = f.readline().strip().split()\n",
        "#                 class_map[line[0]] = int(line[1])\n",
        "#         load_from_list = False\n",
        "#         data_loaded = True\n",
        "list_path=\"data_publish_v2/list_small_train.txt\"\n",
        "if load_from_list:\n",
        "    option = td.TrainingDataOption()\n",
        "    option.sample_step_ = 10 # args.step_size\n",
        "    feature_all, label_all, responses_all, class_map = load_datalist(path=list_path, option=option)\n",
        "    responses_all = responses_all[:, [0, 2]]\n",
        "\n",
        "    print('Data loaded. Total number of samples: ', feature_all.shape[0])\n",
        "\n",
        "    for key, value in class_map.items():\n",
        "        print('%d samples in %s(label %d)' % (len(label_all[label_all==value]), key, value))\n",
        "\n",
        "    # Combine label and response to a single array to simplify the splitting process.\n",
        "    target_temp = np.concatenate([label_all[:, None], responses_all], axis=1)\n",
        "#    feature_train, feature_test, target_train, target_test = train_test_split(feature_all, target_temp,\n",
        "#                                                                              train_size=0.99)\n",
        "    feature_train = feature_all\n",
        "    target_train = target_temp\n",
        "    print('Randomly splitting the dataset to %d samples for training/testing.' %\n",
        "          (feature_train.shape[0]))\n",
        "    label_train, responses_train = target_train[:, 0], target_train[:, 1:]\n",
        "    #label_test, responses_test = target_test[:, 0], target_test[:, 1:]\n",
        "    data_loaded = True\n",
        "#     if args.train_test_path:\n",
        "#         if not os.path.exists(args.train_test_path):\n",
        "#             os.makedirs(args.train_test_path)\n",
        "#         train_all = np.concatenate([feature_train, label_train[:, None], responses_train], axis=1)\n",
        "#         test_all = np.concatenate([feature_test, label_test[:, None], responses_test], axis=1)\n",
        "#         np.save(train_file_path, train_all)\n",
        "#         np.save(test_file_path, test_all)\n",
        "#         with open(args.train_test_path + '/class_map.txt', 'w') as f:\n",
        "#             f.write('%d\\n' % len(class_map))\n",
        "#             for k, v in class_map.items():\n",
        "#                 f.write('{:s} {:d}\\n'.format(k, v))\n",
        "#         print('Training/testing set written to ' + args.train_test_path)\n",
        "if not data_loaded:\n",
        "    raise ValueError('Both data list and train/test directory are invalid')\n",
        "\n",
        "# if args.subsample > 1:\n",
        "#     feature_train = feature_train[0:-1:args.subsample]\n",
        "#     label_train = label_train[0:-1:args.subsample]\n",
        "#     responses_train = responses_train[0:-1:args.subsample]"
      ],
      "execution_count": 0,
      "outputs": [
        {
          "output_type": "stream",
          "text": [
            "Loading dataset data_publish_v2/hang_handheld_normal1/processed/data.csv, type: handheld\n",
            "Loading dataset data_publish_v2/hang_handheld_speed1/processed/data.csv, type: handheld\n",
            "Loading dataset data_publish_v2/hang_handheld_side3/processed/data.csv, type: handheld\n",
            "Loading dataset data_publish_v2/hang_handheld_side4/processed/data.csv, type: handheld\n",
            "Loading dataset data_publish_v2/hang_leg_new1/processed/data.csv, type: leg\n",
            "Loading dataset data_publish_v2/hang_leg_new2/processed/data.csv, type: leg\n",
            "Loading dataset data_publish_v2/hang_bag_normal1/processed/data.csv, type: bag\n",
            "Loading dataset data_publish_v2/hang_bag_speed1/processed/data.csv, type: bag\n",
            "Loading dataset data_publish_v2/hang_body_slow1/processed/data.csv, type: body\n",
            "Loading dataset data_publish_v2/hang_body_fast1/processed/data.csv, type: body\n",
            "Loading dataset data_publish_v2/hang_body_side1/processed/data.csv, type: body\n",
            "Loading dataset data_publish_v2/hang_body_normal1/processed/data.csv, type: body\n",
            "Loading dataset data_publish_v2/hang_body_backward1/processed/data.csv, type: body\n",
            "Loading dataset data_publish_v2/hang_body_backward3/processed/data.csv, type: body\n",
            "Loading dataset data_publish_v2/hang_body_backward4/processed/data.csv, type: body\n",
            "Loading dataset data_publish_v2/hang_body_stop1/processed/data.csv, type: body\n",
            "Loading dataset data_publish_v2/dan_handheld1/processed/data.csv, type: handheld\n",
            "Loading dataset data_publish_v2/dan_leg1/processed/data.csv, type: leg\n",
            "Loading dataset data_publish_v2/dan_body1/processed/data.csv, type: body\n",
            "Loading dataset data_publish_v2/dan_body2/processed/data.csv, type: body\n",
            "Loading dataset data_publish_v2/dan_bag1/processed/data.csv, type: bag\n",
            "Loading dataset data_publish_v2/huayi_handheld1/processed/data.csv, type: handheld\n",
            "Loading dataset data_publish_v2/huayi_leg_front1/processed/data.csv, type: leg\n",
            "Loading dataset data_publish_v2/huayi_leg_front2/processed/data.csv, type: leg\n",
            "Loading dataset data_publish_v2/huayi_bag1/processed/data.csv, type: bag\n",
            "Loading dataset data_publish_v2/huayi_lopata1/processed/data.csv, type: body\n",
            "Loading dataset data_publish_v2/ma_body1/processed/data.csv, type: body\n",
            "Loading dataset data_publish_v2/ma_body2/processed/data.csv, type: body\n",
            "Loading dataset data_publish_v2/ma_handheld1/processed/data.csv, type: handheld\n",
            "Loading dataset data_publish_v2/ma_handheld3/processed/data.csv, type: handheld\n",
            "Loading dataset data_publish_v2/ma_bag_low2/processed/data.csv, type: bag\n",
            "Loading dataset data_publish_v2/ma_bag_low3/processed/data.csv, type: bag\n",
            "Loading dataset data_publish_v2/zhicheng_handheld1/processed/data.csv, type: handheld\n",
            "Loading dataset data_publish_v2/zhicheng_leg1/processed/data.csv, type: leg\n",
            "Loading dataset data_publish_v2/zhicheng_bag1/processed/data.csv, type: bag\n",
            "Loading dataset data_publish_v2/zhicheng_body1/processed/data.csv, type: body\n",
            "Loading dataset data_publish_v2/tang_handheld1/processed/data.csv, type: handheld\n",
            "Loading dataset data_publish_v2/tang_bag1/processed/data.csv, type: bag\n",
            "Loading dataset data_publish_v2/tang_body1/processed/data.csv, type: body\n",
            "Loading dataset data_publish_v2/xiaojing_handheld1/processed/data.csv, type: handheld\n",
            "Loading dataset data_publish_v2/xiaojing_leg1/processed/data.csv, type: leg\n",
            "Loading dataset data_publish_v2/xiaojing_body1/processed/data.csv, type: body\n",
            "Loading dataset data_publish_v2/hao_handheld1/processed/data.csv, type: handheld\n",
            "Loading dataset data_publish_v2/hao_leg1/processed/data.csv, type: leg\n",
            "Loading dataset data_publish_v2/hao_bag1/processed/data.csv, type: bag\n",
            "Loading dataset data_publish_v2/hao_body1/processed/data.csv, type: body\n",
            "Loading dataset data_publish_v2/yajie_handheld1/processed/data.csv, type: handheld\n",
            "Loading dataset data_publish_v2/yajie_bag1/processed/data.csv, type: bag\n",
            "Loading dataset data_publish_v2/yajie_body1/processed/data.csv, type: body\n",
            "Data loaded. Total number of samples:  109365\n",
            "24313 samples in bag(label 2)\n",
            "21493 samples in leg(label 1)\n",
            "32169 samples in body(label 3)\n",
            "31390 samples in handheld(label 0)\n",
            "Randomly splitting the dataset to 109365 samples for training/testing.\n",
            "CPU times: user 4min 29s, sys: 3.05 s, total: 4min 32s\n",
            "Wall time: 4min 42s\n"
          ],
          "name": "stdout"
        }
      ]
    },
    {
      "metadata": {
        "colab_type": "code",
        "id": "PonZi37d2ot7",
        "colab": {}
      },
      "cell_type": "code",
      "source": [
        "def read_list(list_path):\n",
        "    option = td.TrainingDataOption()\n",
        "    option.sample_step_ = 10 # args.step_size\n",
        "    feature_all, label_all, responses_all, class_map = load_datalist(path=list_path, option=option)\n",
        "    responses_all = responses_all[:, [0, 2]]\n",
        "\n",
        "    print('Data loaded. Total number of samples: ', feature_all.shape[0])\n",
        "\n",
        "    for key, value in class_map.items():\n",
        "        print('%d samples in %s(label %d)' % (len(label_all[label_all==value]), key, value))\n",
        "\n",
        "    # Combine label and response to a single array to simplify the splitting process.\n",
        "    target_temp = np.concatenate([label_all[:, None], responses_all], axis=1)\n",
        "    \n",
        "    \n",
        "    label, responses = target_temp[:, 0], target_temp[:, 1:]\n",
        "    return feature_all, label.astype(np.int32), responses, class_map"
      ],
      "execution_count": 0,
      "outputs": []
    },
    {
      "metadata": {
        "id": "DTMnP032Ygsn",
        "colab_type": "code",
        "outputId": "3c212fa9-da61-424e-d0ea-1755ebca6be0",
        "colab": {
          "base_uri": "https://localhost:8080/",
          "height": 204
        }
      },
      "cell_type": "code",
      "source": [
        "%%time\n",
        "feature_train, label_train, responses_train, class_map = read_list(\"data_publish_v2/list_small_train.txt\")"
      ],
      "execution_count": 0,
      "outputs": [
        {
          "output_type": "stream",
          "text": [
            "Loading dataset data_publish_v2/zhicheng_leg1/processed/data.csv, type:  leg\n",
            "Loading dataset data_publish_v2/zhicheng_bag1/processed/data.csv, type:  bag\n",
            "Loading dataset data_publish_v2/zhicheng_handheld1/processed/data.csv, type:  handheld\n",
            "Loading dataset data_publish_v2/zhicheng_body1/processed/data.csv, type:  body \n",
            "Data loaded. Total number of samples:  10183\n",
            "2750 samples in  leg(label 0)\n",
            "2476 samples in  bag(label 1)\n",
            "2452 samples in  handheld(label 2)\n",
            "2505 samples in  body (label 3)\n",
            "CPU times: user 28.9 s, sys: 142 ms, total: 29 s\n",
            "Wall time: 29.1 s\n"
          ],
          "name": "stdout"
        }
      ]
    },
    {
      "metadata": {
        "colab_type": "code",
        "id": "rHpJKopJ2ouD",
        "outputId": "5f7c12bc-3eff-44cb-b0e9-42e61a66f2b4",
        "colab": {
          "base_uri": "https://localhost:8080/",
          "height": 204
        }
      },
      "cell_type": "code",
      "source": [
        "%%time\n",
        "feature_val, label_val, responses_val, _ = read_list(\"data_publish_v2/list_small_test.txt\")"
      ],
      "execution_count": 0,
      "outputs": [
        {
          "output_type": "stream",
          "text": [
            "Loading dataset data_publish_v2/ruixuan_leg1/processed/data.csv, type:  leg\n",
            "Loading dataset data_publish_v2/ruixuan_bag1/processed/data.csv, type:  bag\n",
            "Loading dataset data_publish_v2/ruixuan_handheld1/processed/data.csv, type:  handheld\n",
            "Loading dataset data_publish_v2/ruixuan_body2/processed/data.csv, type:  body \n",
            "Data loaded. Total number of samples:  9317\n",
            "2802 samples in  leg(label 0)\n",
            "2547 samples in  bag(label 1)\n",
            "2694 samples in  handheld(label 2)\n",
            "1274 samples in  body (label 3)\n",
            "CPU times: user 29.7 s, sys: 89.6 ms, total: 29.8 s\n",
            "Wall time: 29.8 s\n"
          ],
          "name": "stdout"
        }
      ]
    },
    {
      "metadata": {
        "colab_type": "code",
        "id": "TK2tss-92otc",
        "colab": {}
      },
      "cell_type": "code",
      "source": [
        "class CascadeTemplate:\n",
        "    \"\"\"\n",
        "    The cascaded model consists of a classifier and num_classes * num_channels regressors.\n",
        "    \"\"\"\n",
        "    def __init__(self, classifier, regressor, num_classes, num_channels, class_map):\n",
        "        self.num_classes = num_classes\n",
        "        self.num_channels = num_channels\n",
        "        self.classifier = classifier\n",
        "        self.regressors = [clone(regressor) for i in range(num_classes * num_channels)]\n",
        "        self.class_map = class_map\n",
        "\n",
        "    def train(self, train_feature, train_label, train_response, test_size=None):\n",
        "        \"\"\"\n",
        "        Train the cascade model. It first trains the classifier with train_feature and train_label. Then the\n",
        "        training samples are split into num_classes groups based on train_label. Regressors are trained for each\n",
        "        group and each channel.\n",
        "        \n",
        "        :param train_feature: Nxd array containing N training feature vectors.\n",
        "        :param train_label: Nx1 integer array containing N training labels.\n",
        "        :param train_response: Nxc array where c equals to num_channels.\n",
        "        :return: None\n",
        "        \"\"\"\n",
        "        assert train_response.shape[1] == self.num_channels\n",
        "        train_feature_cv = train_feature.astype(np.float32)\n",
        "        if self.num_classes > 1:\n",
        "            print('Training classifier')\n",
        "            self.classifier.fit(train_feature, train_label)\n",
        "            print('Classifier trained.')\n",
        "        # Split the training sample based on ground truth label.\n",
        "        for cls_name, cls in self.class_map.items():\n",
        "            feature_in_class = train_feature_cv[train_label == cls, :]\n",
        "            target_in_class = train_response[train_label == cls, :]\n",
        "            # Skip models in 'transition' mode.\n",
        "            if cls_name == ignore_class:\n",
        "                continue\n",
        "            for chn in range(self.num_channels):\n",
        "                rid = cls * self.num_channels + chn\n",
        "                print('Training regressor for class %d, channel %d' % (cls, chn))\n",
        "                self.regressors[rid].fit(feature_in_class,\n",
        "                                         target_in_class[:, chn].astype(np.float32))\n",
        "        print('All done')\n",
        "\n",
        "    def test(self, test_feature, true_label=None, true_responses=None):\n",
        "        \"\"\"\n",
        "        Predict the label and responses of given samples.\n",
        "        \n",
        "        :param test_feature: Nxd array containing N testing feature vectors.\n",
        "        :param true_label: Optional. Nx1 integer array containing N ground truth label.\n",
        "        :param true_responses: Optional. Nxc array containing N ground truth responses.\n",
        "        :return: predicted label and responses.\n",
        "        \"\"\"\n",
        "        feature_cv = test_feature.astype(np.float32)\n",
        "        labels = np.zeros(feature_cv.shape[0])\n",
        "        if self.num_classes > 1:\n",
        "            labels = self.classifier.predict(feature_cv)\n",
        "            if true_label is not None:\n",
        "                print('Classification accuracy: ', accuracy_score(true_label, labels))\n",
        "\n",
        "        index_array = np.array([i for i in range(test_feature.shape[0])])\n",
        "        reverse_index = [None for _ in self.class_map]\n",
        "        predicted_class = [None for _ in self.class_map]\n",
        "        for cls_name, cls in self.class_map.items():\n",
        "            feature_in_class = feature_cv[labels == cls, :]\n",
        "            predicted_in_class = np.zeros([feature_in_class.shape[0], self.num_channels])\n",
        "            if feature_in_class.shape[0] > 0 and cls_name != ignore_class:\n",
        "                for chn in range(self.num_channels):\n",
        "                    rid = cls * self.num_channels + chn\n",
        "                    predicted_in_class[:, chn] = self.regressors[rid].predict(feature_in_class)\n",
        "            predicted_class[cls] = predicted_in_class\n",
        "            reverse_index[cls] = index_array[labels == cls]\n",
        "        if true_responses is not None:\n",
        "            for cls_name, cls in self.class_map.items():\n",
        "                if cls_name == ignore_class:\n",
        "                    continue\n",
        "                true_in_class = true_responses[labels == cls, :]\n",
        "                if true_in_class.shape[0] == 0:\n",
        "                    continue\n",
        "                for chn in range(self.num_channels):\n",
        "                    mse = mean_squared_error(true_in_class[:, chn], predicted_class[cls][:, chn])\n",
        "                    print('Error for class %d, channel %d: %f(MSE)' % (cls, chn, mse))\n",
        "        predicted_all = np.empty([test_feature.shape[0], self.num_channels])\n",
        "        for cls_name, cls in self.class_map.items():\n",
        "            predicted_all[reverse_index[cls], :] = predicted_class[cls]\n",
        "\n",
        "        if true_responses is not None:\n",
        "            for chn in range(self.num_channels):\n",
        "                mse = mean_squared_error(true_responses[:, chn], predicted_all[:, chn])\n",
        "                print('Overall regression error for channel %d: %f(MSE)' % (chn, mse))\n",
        "        return labels, predicted_all\n"
      ],
      "execution_count": 0,
      "outputs": []
    },
    {
      "metadata": {
        "id": "m9_BuKHUYgsy",
        "colab_type": "code",
        "colab": {}
      },
      "cell_type": "code",
      "source": [
        "def search_cascade(train_feature, train_label, class_map, train_response, \n",
        "                   classifier, regressor, cls_params, reg_params,\n",
        "                    n_split=3, n_jobs=6, verbose=3):\n",
        "    options = {}\n",
        "    num_classes = max(train_label) + 1\n",
        "    assert num_classes == len(class_map)\n",
        "    num_channels = train_response.shape[1]\n",
        "    \n",
        "    cls_search = GridSearchCV(classifier, cls_params, cv=n_split, iid=False,\n",
        "                              scoring='accuracy', n_jobs=n_jobs, verbose=verbose, return_train_score=True)\n",
        "    cls_search.fit(train_feature, train_label)\n",
        "    options['classifier'] = cls_search.best_params_\n",
        "    reg_options = []\n",
        "    reg_results = []\n",
        "    for cls_name, cls in class_map.items():\n",
        "        for chn in range(num_channels):\n",
        "            if cls_name is not ignore_class:\n",
        "                reg_search = GridSearchCV(regressor, reg_params, cv=n_split, iid=False,\n",
        "                                                 scoring='neg_mean_squared_error', n_jobs=n_jobs, verbose=verbose, return_train_score=True)\n",
        "                reg_search.fit(train_feature[train_label == cls, :], train_response[train_label == cls, chn])\n",
        "            reg_results.append(reg_search.cv_results_)\n",
        "            reg_options.append(reg_search.best_params_)\n",
        "    options['regressor'] = reg_options\n",
        "    print(\"All done\")\n",
        "    return options, (cls_search.cv_results_, reg_results)"
      ],
      "execution_count": 0,
      "outputs": []
    },
    {
      "metadata": {
        "id": "YGWwL_00Ygs0",
        "colab_type": "code",
        "colab": {}
      },
      "cell_type": "code",
      "source": [
        "params = {\n",
        "    'n_neighbors': [10, 20],\n",
        "    'weights': ['uniform', 'distance'],\n",
        "    'metric': ['euclidean', 'manhattan']\n",
        "}\n",
        "\n",
        "options, cv_results = search_cascade(feature_train, label_train, class_map, responses_train,\n",
        "              KNeighborsClassifier(), KNeighborsRegressor(),\n",
        "              params, params, n_jobs=-1)"
      ],
      "execution_count": 0,
      "outputs": []
    },
    {
      "metadata": {
        "id": "NxIIA1S0Ygs4",
        "colab_type": "code",
        "colab": {}
      },
      "cell_type": "code",
      "source": [
        "scores = np.load('test_scores.npy')[()]"
      ],
      "execution_count": 0,
      "outputs": []
    },
    {
      "metadata": {
        "id": "fzKM-z8QYgs8",
        "colab_type": "code",
        "colab": {}
      },
      "cell_type": "code",
      "source": [
        "res = np.load('cv_results.npy')"
      ],
      "execution_count": 0,
      "outputs": []
    },
    {
      "metadata": {
        "id": "Tf182Qa5Ygs_",
        "colab_type": "code",
        "outputId": "be1f55e1-a358-4090-fc37-51029e97ccea",
        "colab": {}
      },
      "cell_type": "code",
      "source": [
        "i = res[0]['mean_test_score'].argmax()\n",
        "res[0]['params'][i]"
      ],
      "execution_count": 0,
      "outputs": [
        {
          "output_type": "execute_result",
          "data": {
            "text/plain": [
              "{'metric': 'euclidean', 'n_neighbors': 10, 'weights': 'distance'}"
            ]
          },
          "metadata": {
            "tags": []
          },
          "execution_count": 5
        }
      ]
    },
    {
      "metadata": {
        "id": "KYGvFSnxYgtE",
        "colab_type": "code",
        "outputId": "4f295116-895d-4982-cad4-9456f8c94b49",
        "colab": {}
      },
      "cell_type": "code",
      "source": [
        "np.load('options.npy')"
      ],
      "execution_count": 0,
      "outputs": [
        {
          "output_type": "execute_result",
          "data": {
            "text/plain": [
              "array({'classifier': {'weights': 'distance', 'metric': 'euclidean', 'n_neighbors': 10}, 'regressor': [{'weights': 'distance', 'metric': 'euclidean', 'n_neighbors': 10}, {'weights': 'distance', 'metric': 'euclidean', 'n_neighbors': 80}, {'weights': 'distance', 'metric': 'euclidean', 'n_neighbors': 10}, {'weights': 'distance', 'metric': 'euclidean', 'n_neighbors': 10}, {'weights': 'distance', 'metric': 'euclidean', 'n_neighbors': 10}, {'weights': 'distance', 'metric': 'euclidean', 'n_neighbors': 10}, {'weights': 'distance', 'metric': 'euclidean', 'n_neighbors': 10}, {'weights': 'distance', 'metric': 'euclidean', 'n_neighbors': 10}]},\n",
              "      dtype=object)"
            ]
          },
          "metadata": {
            "tags": []
          },
          "execution_count": 21
        }
      ]
    },
    {
      "metadata": {
        "id": "1kFrgeT0YgtH",
        "colab_type": "code",
        "colab": {}
      },
      "cell_type": "code",
      "source": [
        "grid = {}\n",
        "values = {}\n",
        "valerr = {}\n",
        "for i, params in enumerate(res[0]['params']):\n",
        "    name = params['metric'] + '_' + params['weights']\n",
        "    if name not in grid.keys():\n",
        "        grid[name] = []\n",
        "        values[name] = []\n",
        "        valerr[name] = []\n",
        "    grid[name].append(params['n_neighbors'])\n",
        "    values[name].append(res[0]['mean_test_score'][i])\n",
        "    valerr[name].append(res[0]['std_test_score'][i])"
      ],
      "execution_count": 0,
      "outputs": []
    },
    {
      "metadata": {
        "id": "nZK2fZNBYgtJ",
        "colab_type": "code",
        "outputId": "96d0ff02-c7be-46b1-9ba7-2fdd88cb5414",
        "colab": {}
      },
      "cell_type": "code",
      "source": [
        "plt.figure(figsize=(5, 4))\n",
        "for name in grid.keys():\n",
        "    #plt.scatter(grid[name], values[name], label='CV accuracy')\n",
        "    plt.errorbar(grid[name], values[name], yerr=valerr[name], label='Кросс-валидация', color='orange')\n",
        "plt.scatter(np.arange(10, 110, 10), scores['acc'], label='Тест')\n",
        "#plt.scatter(np.arange(10, 110, 10), scores['err'], label='Test error')\n",
        "#plt.title(\"KNN\")\n",
        "plt.ylabel(\"Точность предсказаний\")\n",
        "plt.xlabel(\"Число соседей\")\n",
        "plt.legend()\n",
        "plt.savefig('knn.png', dpi=300)\n",
        "plt.show()"
      ],
      "execution_count": 0,
      "outputs": [
        {
          "output_type": "display_data",
          "data": {
            "image/png": "[encoded data removed]",
            "text/plain": [
              "<Figure size 360x288 with 1 Axes>"
            ]
          },
          "metadata": {
            "tags": []
          }
        }
      ]
    },
    {
      "metadata": {
        "id": "x-4BpuX8YgtO",
        "colab_type": "code",
        "outputId": "166bb2e3-cac9-4b22-85f1-acd5aa983c02",
        "colab": {}
      },
      "cell_type": "code",
      "source": [
        "plt.figure(figsize=(5, 4))\n",
        "plt.ylabel(\"MSE\")\n",
        "plt.xlabel(\"Число соседей\")\n",
        "plt.scatter(np.arange(10, 110, 10), scores['err'], label='Тест')\n",
        "plt.legend()\n",
        "plt.savefig('mse.png', dpi=300)\n",
        "plt.show()"
      ],
      "execution_count": 0,
      "outputs": [
        {
          "output_type": "display_data",
          "data": {
            "image/png": "[encoded data removed]",
            "text/plain": [
              "<Figure size 360x288 with 1 Axes>"
            ]
          },
          "metadata": {
            "tags": []
          }
        }
      ]
    },
    {
      "metadata": {
        "colab_type": "code",
        "id": "5X7l0HCo2otq",
        "outputId": "4120fc50-710c-4ad9-e5ea-22f81a80bd52",
        "colab": {}
      },
      "cell_type": "code",
      "source": [
        "clf = KNeighborsClassifier()\n",
        "clf.fit(feature_train, label_train.astype(np.int32))"
      ],
      "execution_count": 0,
      "outputs": [
        {
          "output_type": "execute_result",
          "data": {
            "text/plain": [
              "KNeighborsClassifier(algorithm='auto', leaf_size=30, metric='minkowski',\n",
              "           metric_params=None, n_jobs=None, n_neighbors=5, p=2,\n",
              "           weights='uniform')"
            ]
          },
          "metadata": {
            "tags": []
          },
          "execution_count": 6
        }
      ]
    },
    {
      "metadata": {
        "colab_type": "code",
        "id": "6JfJp1XV-p3w",
        "outputId": "f21e1125-884e-4288-bdc3-e427fd9ae4ec",
        "colab": {
          "base_uri": "https://localhost:8080/",
          "height": 34
        }
      },
      "cell_type": "code",
      "source": [
        "label_train.shape"
      ],
      "execution_count": 0,
      "outputs": [
        {
          "output_type": "execute_result",
          "data": {
            "text/plain": [
              "(109365,)"
            ]
          },
          "metadata": {
            "tags": []
          },
          "execution_count": 6
        }
      ]
    },
    {
      "metadata": {
        "colab_type": "code",
        "id": "YU-q-8iK2oty",
        "outputId": "8dad2a14-00eb-4606-cd2e-357e4c150f93",
        "colab": {
          "base_uri": "https://localhost:8080/",
          "height": 52
        }
      },
      "cell_type": "code",
      "source": [
        "%%time\n",
        "model = CascadeTemplate(KNeighborsClassifier(n_neighbors=40, n_jobs=-1), KNeighborsRegressor(n_neighbors=40, n_jobs=-1),\n",
        "                     len(class_map), responses_train.shape[1], class_map)\n",
        "print('Sample used for training: ', feature_train.shape[0])\n",
        "model.train(feature_train, label_train.astype(np.int32), responses_train, test_size=10)"
      ],
      "execution_count": 0,
      "outputs": [
        {
          "output_type": "stream",
          "text": [
            "Sample used for training:  109365\n",
            "Training classifier\n",
            "Classifier trained.\n",
            "Training regressor for class 2, channel 0\n",
            "Training regressor for class 2, channel 1\n",
            "Training regressor for class 1, channel 0\n",
            "Training regressor for class 1, channel 1\n",
            "Training regressor for class 3, channel 0\n",
            "Training regressor for class 3, channel 1\n",
            "Training regressor for class 0, channel 0\n",
            "Training regressor for class 0, channel 1\n",
            "All done\n",
            "CPU times: user 43.5 s, sys: 1.79 s, total: 45.3 s\n",
            "Wall time: 45.2 s\n"
          ],
          "name": "stdout"
        }
      ]
    },
    {
      "metadata": {
        "id": "qDD15F3vYgtb",
        "colab_type": "code",
        "outputId": "6fabac95-2c34-4c01-dc8c-2239e2e4a5c9",
        "colab": {}
      },
      "cell_type": "code",
      "source": [
        "%%time\n",
        "ind = np.random.choice(len(feature_train), size=30)\n",
        "res_labels, res_predicted = model.test(feature_train[ind], label_train[ind], responses_train[ind])"
      ],
      "execution_count": 0,
      "outputs": [
        {
          "output_type": "stream",
          "text": [
            "Classification accuracy:  1.0\n",
            "Error for class 0, channel 0: 0.011823(MSE)\n",
            "Error for class 0, channel 1: 0.034327(MSE)\n",
            "Error for class 1, channel 0: 0.007891(MSE)\n",
            "Error for class 1, channel 1: 0.014908(MSE)\n",
            "Error for class 2, channel 0: 0.005929(MSE)\n",
            "Error for class 2, channel 1: 0.004107(MSE)\n",
            "Error for class 3, channel 0: 0.015346(MSE)\n",
            "Error for class 3, channel 1: 0.024565(MSE)\n",
            "Overall regression error for channel 0: 0.011463(MSE)\n",
            "Overall regression error for channel 1: 0.021575(MSE)\n",
            "CPU times: user 13.2 s, sys: 4 ms, total: 13.2 s\n",
            "Wall time: 13.2 s\n"
          ],
          "name": "stdout"
        }
      ]
    },
    {
      "metadata": {
        "colab_type": "code",
        "id": "I-kCxbTb2ouS",
        "outputId": "781f1798-22c7-46ad-abd0-5929d4b53793",
        "colab": {}
      },
      "cell_type": "code",
      "source": [
        "feature_val.shape"
      ],
      "execution_count": 0,
      "outputs": [
        {
          "output_type": "execute_result",
          "data": {
            "text/plain": [
              "(43518, 1200)"
            ]
          },
          "metadata": {
            "tags": []
          },
          "execution_count": 13
        }
      ]
    },
    {
      "metadata": {
        "colab_type": "code",
        "id": "kZ8CZoHe2oub",
        "outputId": "955a8e92-488d-421d-8306-d657ba73a763",
        "colab": {}
      },
      "cell_type": "code",
      "source": [
        "%%time\n",
        "res_labels, res_predicted = model.test(feature_val, label_val, responses_val)"
      ],
      "execution_count": 0,
      "outputs": [
        {
          "output_type": "stream",
          "text": [
            "Classification accuracy:  0.37152442667401997\n",
            "Error for class 2, channel 0: 0.018496(MSE)\n",
            "Error for class 2, channel 1: 0.020470(MSE)\n",
            "Error for class 1, channel 0: 0.012307(MSE)\n",
            "Error for class 1, channel 1: 0.010029(MSE)\n",
            "Error for class 3, channel 0: 0.009417(MSE)\n",
            "Error for class 3, channel 1: 0.013547(MSE)\n",
            "Error for class 0, channel 0: 0.060608(MSE)\n",
            "Error for class 0, channel 1: 0.035003(MSE)\n",
            "Overall regression error for channel 0: 0.031158(MSE)\n",
            "Overall regression error for channel 1: 0.022814(MSE)\n",
            "CPU times: user 6h 47min 14s, sys: 5.86 s, total: 6h 47min 20s\n",
            "Wall time: 3h 30min 3s\n"
          ],
          "name": "stdout"
        }
      ]
    },
    {
      "metadata": {
        "colab_type": "code",
        "id": "GT_CmBQI2oul",
        "outputId": "02898e6d-688f-4bb1-c54c-e392647c1aa7",
        "colab": {
          "base_uri": "https://localhost:8080/",
          "height": 34
        }
      },
      "cell_type": "code",
      "source": [
        "def stuff():\n",
        "    svm_option = SVMOption()\n",
        "    svm_option.svm_type = cv2.ml.SVM_C_SVC\n",
        "    svm_option.kernel_type = cv2.ml.SVM_RBF\n",
        "    svm_option.C = 10.0\n",
        "    svm_option.gamma = 1. / feature_train.shape[1]\n",
        "\n",
        "    svr_options = []\n",
        "    num_classes = max(label_train) + 1\n",
        "    assert num_classes == len(class_map)\n",
        "    num_channels = responses_train.shape[1]\n",
        "    for cls_name, cls in class_map.items():\n",
        "        for chn in range(num_channels):\n",
        "            svr_option = SVMOption()\n",
        "            svr_option.svm_type = cv2.ml.SVM_EPS_SVR\n",
        "            svr_option.kernel_type = cv2.ml.SVM_RBF\n",
        "            svr_option.gamma = 1. / feature_train.shape[1]\n",
        "            if cls_name is not ignore_class:\n",
        "                svr_option.C = 1\n",
        "                svr_option.e = 0.01\n",
        "            svr_options.append(svr_option)\n",
        "    print('All done')\n",
        "    return SVRCascadeOption(num_classes, num_channels, svm_option, svr_options)\n",
        "option = stuff()"
      ],
      "execution_count": 0,
      "outputs": [
        {
          "output_type": "stream",
          "text": [
            "All done\n"
          ],
          "name": "stdout"
        }
      ]
    },
    {
      "metadata": {
        "colab_type": "code",
        "id": "Mym3ikAC2out",
        "outputId": "462ced45-9475-4aa6-b405-8e0dec123c01",
        "colab": {}
      },
      "cell_type": "code",
      "source": [
        "bmodel = SVRCascade(option, class_map)\n",
        "print('Sample used for training: ', feature_train.shape[0])\n",
        "bmodel.train(feature_train, label_train.astype(np.int32), responses_train)"
      ],
      "execution_count": 0,
      "outputs": [
        {
          "output_type": "stream",
          "text": [
            "Sample used for training:  109365\n",
            "Training classifier\n",
            "Classifier trained. Training accuracy: 0.970073\n",
            "Training regressor for class 2, channel 0\n",
            "Regressor for class 2  channel 0 trained. Training error: 0.968395(r2), 0.003621(MSE)\n",
            "Training regressor for class 2, channel 1\n",
            "Regressor for class 2  channel 1 trained. Training error: 0.967663(r2), 0.001760(MSE)\n",
            "Training regressor for class 1, channel 0\n",
            "Regressor for class 1  channel 0 trained. Training error: 0.990110(r2), 0.000504(MSE)\n",
            "Training regressor for class 1, channel 1\n",
            "Regressor for class 1  channel 1 trained. Training error: 0.993338(r2), 0.000798(MSE)\n",
            "Training regressor for class 3, channel 0\n",
            "Regressor for class 3  channel 0 trained. Training error: 0.971770(r2), 0.000818(MSE)\n",
            "Training regressor for class 3, channel 1\n",
            "Regressor for class 3  channel 1 trained. Training error: 0.994310(r2), 0.002079(MSE)\n",
            "Training regressor for class 0, channel 0\n",
            "Regressor for class 0  channel 0 trained. Training error: 0.748844(r2), 0.011010(MSE)\n",
            "Training regressor for class 0, channel 1\n",
            "Regressor for class 0  channel 1 trained. Training error: 0.878491(r2), 0.012240(MSE)\n",
            "All done\n"
          ],
          "name": "stdout"
        }
      ]
    },
    {
      "metadata": {
        "colab_type": "code",
        "id": "p7JnFgT_2ouy",
        "outputId": "4fcad548-1ff4-4388-b022-a16c2be09cb8",
        "colab": {}
      },
      "cell_type": "code",
      "source": [
        "%%time\n",
        "res_labels, res_predicted = bmodel.test(feature_val, label_val, responses_val)"
      ],
      "execution_count": 0,
      "outputs": [
        {
          "output_type": "stream",
          "text": [
            "Classification accuracy:  0.37055930879176435\n",
            "Error for class 2, channel 0: 0.012654(MSE)\n",
            "Error for class 2, channel 1: 0.012904(MSE)\n",
            "Error for class 1, channel 0: 0.026799(MSE)\n",
            "Error for class 1, channel 1: 0.017665(MSE)\n",
            "Error for class 3, channel 0: 0.003265(MSE)\n",
            "Error for class 3, channel 1: 0.007877(MSE)\n",
            "Error for class 0, channel 0: 0.030001(MSE)\n",
            "Error for class 0, channel 1: 0.030332(MSE)\n",
            "Overall regression error for channel 0: 0.017640(MSE)\n",
            "Overall regression error for channel 1: 0.018207(MSE)\n",
            "CPU times: user 52min 56s, sys: 668 ms, total: 52min 56s\n",
            "Wall time: 26min 31s\n"
          ],
          "name": "stdout"
        }
      ]
    },
    {
      "metadata": {
        "id": "4fUSChQtdl_J",
        "colab_type": "code",
        "outputId": "ad95ae71-f8f3-4755-c4f0-22b061e9cd51",
        "colab": {
          "base_uri": "https://localhost:8080/",
          "height": 357
        }
      },
      "cell_type": "code",
      "source": [
        "bmodel = SVRCascade(option, class_map)\n",
        "print('Sample used for training: ', feature_train.shape[0])\n",
        "bmodel.train(feature_train, label_train.astype(np.int32), responses_train)"
      ],
      "execution_count": 0,
      "outputs": [
        {
          "output_type": "stream",
          "text": [
            "Sample used for training:  10183\n",
            "Training classifier\n",
            "Classifier trained. Training accuracy: 0.991358\n",
            "Training regressor for class 0, channel 0\n",
            "Regressor for class 0  channel 0 trained. Training error: 0.997715(r2), 0.000102(MSE)\n",
            "Training regressor for class 0, channel 1\n",
            "Regressor for class 0  channel 1 trained. Training error: 0.998833(r2), 0.000116(MSE)\n",
            "Training regressor for class 1, channel 0\n",
            "Regressor for class 1  channel 0 trained. Training error: 0.998002(r2), 0.000128(MSE)\n",
            "Training regressor for class 1, channel 1\n",
            "Regressor for class 1  channel 1 trained. Training error: 0.996108(r2), 0.000102(MSE)\n",
            "Training regressor for class 2, channel 0\n",
            "Regressor for class 2  channel 0 trained. Training error: 0.353606(r2), 0.020458(MSE)\n",
            "Training regressor for class 2, channel 1\n",
            "Regressor for class 2  channel 1 trained. Training error: 0.423541(r2), 0.022675(MSE)\n",
            "Training regressor for class 3, channel 0\n",
            "Regressor for class 3  channel 0 trained. Training error: 0.997720(r2), 0.000102(MSE)\n",
            "Training regressor for class 3, channel 1\n",
            "Regressor for class 3  channel 1 trained. Training error: 0.997199(r2), 0.000187(MSE)\n",
            "All done\n"
          ],
          "name": "stdout"
        }
      ]
    },
    {
      "metadata": {
        "id": "kST0n-v-doul",
        "colab_type": "code",
        "outputId": "5fc23589-0a03-45ef-9841-fdade8f506bb",
        "colab": {
          "base_uri": "https://localhost:8080/",
          "height": 238
        }
      },
      "cell_type": "code",
      "source": [
        "%%time\n",
        "res_labels, res_predicted = bmodel.test(feature_val, label_val, responses_val)"
      ],
      "execution_count": 0,
      "outputs": [
        {
          "output_type": "stream",
          "text": [
            "Classification accuracy:  0.9547064505742192\n",
            "Error for class 0, channel 0: 0.045836(MSE)\n",
            "Error for class 0, channel 1: 0.037213(MSE)\n",
            "Error for class 1, channel 0: 0.017607(MSE)\n",
            "Error for class 1, channel 1: 0.019695(MSE)\n",
            "Error for class 2, channel 0: 0.041739(MSE)\n",
            "Error for class 2, channel 1: 0.036139(MSE)\n",
            "Error for class 3, channel 0: 0.044226(MSE)\n",
            "Error for class 3, channel 1: 0.016239(MSE)\n",
            "Overall regression error for channel 0: 0.037116(MSE)\n",
            "Overall regression error for channel 1: 0.029604(MSE)\n",
            "CPU times: user 2min 36s, sys: 0 ns, total: 2min 36s\n",
            "Wall time: 1min 19s\n"
          ],
          "name": "stdout"
        }
      ]
    },
    {
      "metadata": {
        "id": "OBoh0v5fnxu_",
        "colab_type": "text"
      },
      "cell_type": "markdown",
      "source": [
        "# CNN\n"
      ]
    },
    {
      "metadata": {
        "id": "Zb9J_cTTW8p9",
        "colab_type": "code",
        "colab": {}
      },
      "cell_type": "code",
      "source": [
        "class KerasCascade:\n",
        "    \"\"\"\n",
        "    The cascaded model consists of a classifier and num_classes * num_channels regressors.\n",
        "    \"\"\"\n",
        "    def __init__(self, classifier, regressor, num_classes, num_channels, class_map):\n",
        "        self.num_classes = num_classes\n",
        "        self.num_channels = num_channels\n",
        "        self.classifier = classifier\n",
        "        self.regressors = [clone_model(regressor) for i in range(num_classes * num_channels)]\n",
        "        for regr in self.regressors:\n",
        "            regr.compile(loss='mean_squared_error',\n",
        "              optimizer=Adam(lr=2e-5),\n",
        "              metrics=['mean_absolute_percentage_error', 'mean_absolute_error'])\n",
        "        self.class_map = class_map\n",
        "\n",
        "    def train(self, train_feature, train_label, train_response, val_feature, val_label, val_response, epochs=10):\n",
        "        \"\"\"\n",
        "        Train the cascade model. It first trains the classifier with train_feature and train_label. Then the\n",
        "        training samples are split into num_classes groups based on train_label. Regressors are trained for each\n",
        "        group and each channel.\n",
        "        \n",
        "        :param train_feature: Nxd array containing N training feature vectors.\n",
        "        :param train_label: Nx1 integer array containing N training labels.\n",
        "        :param train_response: Nxc array where c equals to num_channels.\n",
        "        :return: None\n",
        "        \"\"\"\n",
        "        assert train_response.shape[1] == self.num_channels\n",
        "        train_feature_cv = train_feature.astype(np.float32)\n",
        "        if self.num_classes > 1:\n",
        "            print('Training classifier')\n",
        "            class_hist = self.classifier.fit(train_feature.reshape(-1, 200, 6), to_categorical(train_label), \n",
        "                                             validation_data=(val_feature.reshape(-1, 200, 6), to_categorical(val_label)),\n",
        "                                             epochs=epochs, verbose=0)\n",
        "            print('Classifier trained.')\n",
        "        # Split the training sample based on ground truth label.\n",
        "        regr_hist = []\n",
        "        for cls_name, cls in self.class_map.items():\n",
        "            feature_in_class = train_feature_cv[train_label == cls, :]\n",
        "            val_feature_in_class = val_feature[val_label == cls, :]\n",
        "            target_in_class = train_response[train_label == cls, :]\n",
        "            val_target_in_class = val_response[val_label == cls, :]\n",
        "            # Skip models in 'transition' mode.\n",
        "            if cls_name == ignore_class:\n",
        "                continue\n",
        "            for chn in range(self.num_channels):\n",
        "                rid = cls * self.num_channels + chn\n",
        "                print('Training regressor for class %d, channel %d' % (cls, chn))\n",
        "                hist = self.regressors[rid].fit(feature_in_class.reshape(-1, 200, 6),\n",
        "                                               target_in_class[:, chn].astype(np.float32), epochs=epochs, verbose=0,\n",
        "                                               validation_data=(val_feature_in_class.reshape(-1, 200, 6), val_target_in_class[:, chn]))\n",
        "                regr_hist.append(hist.history)\n",
        "                \n",
        "        print('All done')\n",
        "        return {'classifier': class_hist.history, 'regressor': regr_hist}\n",
        "\n",
        "    def test(self, test_feature, true_label=None, true_responses=None):\n",
        "        \"\"\"\n",
        "        Predict the label and responses of given samples.\n",
        "        \n",
        "        :param test_feature: Nxd array containing N testing feature vectors.\n",
        "        :param true_label: Optional. Nx1 integer array containing N ground truth label.\n",
        "        :param true_responses: Optional. Nxc array containing N ground truth responses.\n",
        "        :return: predicted label and responses.\n",
        "        \"\"\"\n",
        "        feature_cv = test_feature.astype(np.float32)\n",
        "        labels = np.zeros(feature_cv.shape[0])\n",
        "        if self.num_classes > 1:\n",
        "            labels = self.classifier.predict(feature_cv.reshape(-1, 200, 6)).argmax(axis=-1)\n",
        "            if true_label is not None:\n",
        "                print('Classification accuracy: ', accuracy_score(true_label, labels))\n",
        "\n",
        "        index_array = np.array([i for i in range(test_feature.shape[0])])\n",
        "        reverse_index = [None for _ in self.class_map]\n",
        "        predicted_class = [None for _ in self.class_map]\n",
        "        for cls_name, cls in self.class_map.items():\n",
        "            feature_in_class = feature_cv[labels == cls, :]\n",
        "            predicted_in_class = np.zeros([feature_in_class.shape[0], self.num_channels])\n",
        "            if feature_in_class.shape[0] > 0 and cls_name != ignore_class:\n",
        "                for chn in range(self.num_channels):\n",
        "                    rid = cls * self.num_channels + chn\n",
        "                    predicted_in_class[:, chn] = self.regressors[rid].predict(feature_in_class.reshape(-1, 200, 6)).flatten()\n",
        "            predicted_class[cls] = predicted_in_class\n",
        "            reverse_index[cls] = index_array[labels == cls]\n",
        "        if true_responses is not None:\n",
        "            for cls_name, cls in self.class_map.items():\n",
        "                if cls_name == ignore_class:\n",
        "                    continue\n",
        "                true_in_class = true_responses[labels == cls, :]\n",
        "                if true_in_class.shape[0] == 0:\n",
        "                    continue\n",
        "                for chn in range(self.num_channels):\n",
        "                    mse = mean_squared_error(true_in_class[:, chn], predicted_class[cls][:, chn])\n",
        "                    print('Error for class %d, channel %d: %f(MSE)' % (cls, chn, mse))\n",
        "        predicted_all = np.empty([test_feature.shape[0], self.num_channels])\n",
        "        for cls_name, cls in self.class_map.items():\n",
        "            predicted_all[reverse_index[cls], :] = predicted_class[cls]\n",
        "\n",
        "        if true_responses is not None:\n",
        "            for chn in range(self.num_channels):\n",
        "                mse = mean_squared_error(true_responses[:, chn], predicted_all[:, chn])\n",
        "                print('Overall regression error for channel %d: %f(MSE)' % (chn, mse))\n",
        "        return labels, predicted_all\n"
      ],
      "execution_count": 0,
      "outputs": []
    },
    {
      "metadata": {
        "id": "3-YByrDZoBH9",
        "colab_type": "code",
        "outputId": "bf13c68a-305a-4b1f-e747-3f9385ea9fc5",
        "colab": {
          "base_uri": "https://localhost:8080/",
          "height": 34
        }
      },
      "cell_type": "code",
      "source": [
        "feature_train.reshape(-1, 200, 6).shape"
      ],
      "execution_count": 0,
      "outputs": [
        {
          "output_type": "execute_result",
          "data": {
            "text/plain": [
              "(10183, 200, 6)"
            ]
          },
          "metadata": {
            "tags": []
          },
          "execution_count": 14
        }
      ]
    },
    {
      "metadata": {
        "id": "dAE8FU3ePtCG",
        "colab_type": "code",
        "outputId": "931968c8-3427-4da2-eb18-5f5e94e179e4",
        "colab": {
          "base_uri": "https://localhost:8080/",
          "height": 302
        }
      },
      "cell_type": "code",
      "source": [
        "from keras.models import Sequential\n",
        "from keras.layers import Dense\n",
        "from keras.layers import Flatten\n",
        "from keras.layers import Conv1D, MaxPooling1D\n",
        "from keras.utils import to_categorical\n",
        "from keras.optimizers import Adam\n",
        "\n",
        "clf = Sequential()\n",
        "clf.add(Conv1D(12, 7, activation='relu', input_shape=(200, 6)))\n",
        "clf.add(AveragePooling1D(3))\n",
        "clf.add(Conv1D(12, 7, activation='relu'))\n",
        "clf.add(AveragePooling1D(3))\n",
        "clf.add(Conv1D(12, 7, activation='relu'))\n",
        "clf.add(AveragePooling1D(3))\n",
        "clf.add(Flatten())\n",
        "clf.add(Dense(16, activation='sigmoid'))\n",
        "clf.add(Dense(4, activation='softmax'))\n",
        "\n",
        "clf.compile(loss='categorical_crossentropy',\n",
        "              optimizer=Adam(lr=1e-5),\n",
        "              metrics=['accuracy'])\n",
        "clf.summary()"
      ],
      "execution_count": 0,
      "outputs": [
        {
          "output_type": "stream",
          "text": [
            "WARNING:tensorflow:From /usr/local/lib/python3.6/dist-packages/tensorflow/python/framework/op_def_library.py:263: colocate_with (from tensorflow.python.framework.ops) is deprecated and will be removed in a future version.\n",
            "Instructions for updating:\n",
            "Colocations handled automatically by placer.\n"
          ],
          "name": "stdout"
        },
        {
          "output_type": "error",
          "ename": "NameError",
          "evalue": "ignored",
          "traceback": [
            "\u001b[0;31m---------------------------------------------------------------------------\u001b[0m",
            "\u001b[0;31mNameError\u001b[0m                                 Traceback (most recent call last)",
            "\u001b[0;32m<ipython-input-39-afe4990b90a2>\u001b[0m in \u001b[0;36m<module>\u001b[0;34m()\u001b[0m\n\u001b[1;32m      8\u001b[0m \u001b[0mclf\u001b[0m \u001b[0;34m=\u001b[0m \u001b[0mSequential\u001b[0m\u001b[0;34m(\u001b[0m\u001b[0;34m)\u001b[0m\u001b[0;34m\u001b[0m\u001b[0;34m\u001b[0m\u001b[0m\n\u001b[1;32m      9\u001b[0m \u001b[0mclf\u001b[0m\u001b[0;34m.\u001b[0m\u001b[0madd\u001b[0m\u001b[0;34m(\u001b[0m\u001b[0mConv1D\u001b[0m\u001b[0;34m(\u001b[0m\u001b[0;36m12\u001b[0m\u001b[0;34m,\u001b[0m \u001b[0;36m7\u001b[0m\u001b[0;34m,\u001b[0m \u001b[0mactivation\u001b[0m\u001b[0;34m=\u001b[0m\u001b[0;34m'relu'\u001b[0m\u001b[0;34m,\u001b[0m \u001b[0minput_shape\u001b[0m\u001b[0;34m=\u001b[0m\u001b[0;34m(\u001b[0m\u001b[0;36m200\u001b[0m\u001b[0;34m,\u001b[0m \u001b[0;36m6\u001b[0m\u001b[0;34m)\u001b[0m\u001b[0;34m)\u001b[0m\u001b[0;34m)\u001b[0m\u001b[0;34m\u001b[0m\u001b[0;34m\u001b[0m\u001b[0m\n\u001b[0;32m---> 10\u001b[0;31m \u001b[0mclf\u001b[0m\u001b[0;34m.\u001b[0m\u001b[0madd\u001b[0m\u001b[0;34m(\u001b[0m\u001b[0mAveragePooling1D\u001b[0m\u001b[0;34m(\u001b[0m\u001b[0;36m3\u001b[0m\u001b[0;34m)\u001b[0m\u001b[0;34m)\u001b[0m\u001b[0;34m\u001b[0m\u001b[0;34m\u001b[0m\u001b[0m\n\u001b[0m\u001b[1;32m     11\u001b[0m \u001b[0mclf\u001b[0m\u001b[0;34m.\u001b[0m\u001b[0madd\u001b[0m\u001b[0;34m(\u001b[0m\u001b[0mConv1D\u001b[0m\u001b[0;34m(\u001b[0m\u001b[0;36m12\u001b[0m\u001b[0;34m,\u001b[0m \u001b[0;36m7\u001b[0m\u001b[0;34m,\u001b[0m \u001b[0mactivation\u001b[0m\u001b[0;34m=\u001b[0m\u001b[0;34m'relu'\u001b[0m\u001b[0;34m)\u001b[0m\u001b[0;34m)\u001b[0m\u001b[0;34m\u001b[0m\u001b[0;34m\u001b[0m\u001b[0m\n\u001b[1;32m     12\u001b[0m \u001b[0mclf\u001b[0m\u001b[0;34m.\u001b[0m\u001b[0madd\u001b[0m\u001b[0;34m(\u001b[0m\u001b[0mAveragePooling1D\u001b[0m\u001b[0;34m(\u001b[0m\u001b[0;36m3\u001b[0m\u001b[0;34m)\u001b[0m\u001b[0;34m)\u001b[0m\u001b[0;34m\u001b[0m\u001b[0;34m\u001b[0m\u001b[0m\n",
            "\u001b[0;31mNameError\u001b[0m: name 'AveragePooling1D' is not defined"
          ]
        }
      ]
    },
    {
      "metadata": {
        "id": "_ykcBacOX0Oq",
        "colab_type": "code",
        "outputId": "9b2683f8-5ce1-4d23-cfc3-b1c31f705239",
        "colab": {
          "base_uri": "https://localhost:8080/",
          "height": 442
        }
      },
      "cell_type": "code",
      "source": [
        "from keras.models import Sequential\n",
        "from keras.layers import Dense\n",
        "from keras.layers import Flatten\n",
        "from keras.layers import Conv1D, AveragePooling1D\n",
        "from keras.utils import to_categorical\n",
        "from keras.optimizers import Adam\n",
        "\n",
        "regr = Sequential()\n",
        "regr.add(Conv1D(12, 7, activation='relu', input_shape=(200, 6)))\n",
        "regr.add(AveragePooling1D(3))\n",
        "regr.add(Conv1D(12, 7, activation='relu'))\n",
        "regr.add(AveragePooling1D(3))\n",
        "regr.add(Conv1D(12, 7, activation='relu'))\n",
        "regr.add(AveragePooling1D(3))\n",
        "regr.add(Flatten())\n",
        "regr.add(Dense(16, activation='relu'))\n",
        "regr.add(Dense(1))\n",
        "\n",
        "regr.compile(loss='mean_squared_error',\n",
        "              optimizer=Adam(lr=1e-5),\n",
        "              metrics=['mean_absolute_percentage_error', 'mean_absolute_error'])\n",
        "regr.summary()"
      ],
      "execution_count": 0,
      "outputs": [
        {
          "output_type": "stream",
          "text": [
            "_________________________________________________________________\n",
            "Layer (type)                 Output Shape              Param #   \n",
            "=================================================================\n",
            "conv1d_2 (Conv1D)            (None, 194, 12)           516       \n",
            "_________________________________________________________________\n",
            "average_pooling1d_1 (Average (None, 64, 12)            0         \n",
            "_________________________________________________________________\n",
            "conv1d_3 (Conv1D)            (None, 58, 12)            1020      \n",
            "_________________________________________________________________\n",
            "average_pooling1d_2 (Average (None, 19, 12)            0         \n",
            "_________________________________________________________________\n",
            "conv1d_4 (Conv1D)            (None, 13, 12)            1020      \n",
            "_________________________________________________________________\n",
            "average_pooling1d_3 (Average (None, 4, 12)             0         \n",
            "_________________________________________________________________\n",
            "flatten_1 (Flatten)          (None, 48)                0         \n",
            "_________________________________________________________________\n",
            "dense_1 (Dense)              (None, 16)                784       \n",
            "_________________________________________________________________\n",
            "dense_2 (Dense)              (None, 1)                 17        \n",
            "=================================================================\n",
            "Total params: 3,357\n",
            "Trainable params: 3,357\n",
            "Non-trainable params: 0\n",
            "_________________________________________________________________\n"
          ],
          "name": "stdout"
        }
      ]
    },
    {
      "metadata": {
        "id": "mAVwiKF3Z81L",
        "colab_type": "code",
        "outputId": "aeecfa97-fcc2-45f7-b02d-509e16e01e38",
        "colab": {
          "base_uri": "https://localhost:8080/",
          "height": 34
        }
      },
      "cell_type": "code",
      "source": [
        ""
      ],
      "execution_count": 0,
      "outputs": [
        {
          "output_type": "execute_result",
          "data": {
            "text/plain": [
              "<keras.engine.sequential.Sequential at 0x7f858d559e10>"
            ]
          },
          "metadata": {
            "tags": []
          },
          "execution_count": 68
        }
      ]
    },
    {
      "metadata": {
        "id": "nDE5cfVCX_-Z",
        "colab_type": "code",
        "colab": {}
      },
      "cell_type": "code",
      "source": [
        "%%time\n",
        "casc = KerasCascade(clf, regr, len(class_map), responses_train.shape[1], class_map)\n",
        "print('Sample used for training: ', feature_train.shape[0])\n",
        "hist = casc.train(feature_train, label_train.astype(np.int32), responses_train, feature_val, label_val, responses_val, epochs=100)\n",
        "casc.test(feature_val, label_val, responses_val)"
      ],
      "execution_count": 0,
      "outputs": []
    },
    {
      "metadata": {
        "id": "UswUPHUL8NgH",
        "colab_type": "code",
        "colab": {}
      },
      "cell_type": "code",
      "source": [
        "def make_keras_cascade(conv=3, hidden=1, conv_act='relu', hidden_act='sigmoid'):\n",
        "  clf = Sequential()\n",
        "  clf.add(Conv1D(12, 7, activation=conv_act, input_shape=(200, 6)))\n",
        "  clf.add(AveragePooling1D(3))\n",
        "  for i in range(conv - 1):\n",
        "    clf.add(Conv1D(12, 7, activation=conv_act))\n",
        "    clf.add(AveragePooling1D(3))\n",
        "  clf.add(Flatten())\n",
        "  for i in range(hidden):\n",
        "    clf.add(Dense(16, activation=hidden_act))\n",
        "  clf.add(Dense(4, activation='softmax'))\n",
        "\n",
        "  clf.compile(loss='categorical_crossentropy',\n",
        "                optimizer=Adam(lr=2e-5),\n",
        "                metrics=['accuracy'])\n",
        "  #clf.summary()\n",
        "  \n",
        "  regr = Sequential()\n",
        "  regr.add(Conv1D(12, 7, activation=conv_act, input_shape=(200, 6)))\n",
        "  regr.add(AveragePooling1D(3))\n",
        "  for i in range(conv - 1):\n",
        "    regr.add(Conv1D(12, 7, activation=conv_act))\n",
        "    regr.add(AveragePooling1D(3))\n",
        "  regr.add(Flatten())\n",
        "  for i in range(hidden):\n",
        "    regr.add(Dense(16, activation=conv_act))\n",
        "  regr.add(Dense(1))\n",
        "\n",
        "  regr.compile(loss='mean_squared_error',\n",
        "                optimizer=Adam(lr=2e-5),\n",
        "                metrics=['mean_absolute_percentage_error', 'mean_absolute_error'])\n",
        "  #regr.summary()\n",
        "  return KerasCascade(clf, regr, len(class_map), responses_train.shape[1], class_map)"
      ],
      "execution_count": 0,
      "outputs": []
    },
    {
      "metadata": {
        "id": "SIjtd9u_9mpY",
        "colab_type": "code",
        "colab": {}
      },
      "cell_type": "code",
      "source": [
        "params = [\n",
        "    {'conv':1, 'hidden': 0},\n",
        "    {'conv':2, 'hidden': 0},\n",
        "    {'conv':3, 'hidden': 0},\n",
        "    {'conv':1, 'hidden': 1},\n",
        "    {'conv':2, 'hidden': 1},\n",
        "    {'conv':3, 'hidden': 1},\n",
        "    {'conv':1, 'hidden': 2},\n",
        "    {'conv':2, 'hidden': 2},\n",
        "    {'conv':3, 'hidden': 2},\n",
        "]"
      ],
      "execution_count": 0,
      "outputs": []
    },
    {
      "metadata": {
        "id": "RlYliPFH-F3R",
        "colab_type": "code",
        "outputId": "b38261d0-00c9-42e1-e09e-0542270becbc",
        "colab": {
          "base_uri": "https://localhost:8080/",
          "height": 3641
        }
      },
      "cell_type": "code",
      "source": [
        "%%time\n",
        "for p in params:\n",
        "  print(p)\n",
        "  model = make_keras_cascade(**p)\n",
        "  hist = model.train(feature_train, label_train.astype(np.int32), responses_train, feature_val, label_val, responses_val, epochs=200)\n",
        "  model.test(feature_val, label_val, responses_val)\n",
        "  name = 'cnn_search/conv_{}_hidden_{}'.format(p['conv'], p['hidden'])\n",
        "  np.save(name, hist)\n",
        "  name += '.npy'\n",
        "  !cp $name \"/gdrive/My Drive/strizh/cnn_search\"\n",
        "  "
      ],
      "execution_count": 0,
      "outputs": [
        {
          "output_type": "stream",
          "text": [
            "{'conv': 1, 'hidden': 0}\n",
            "Training classifier\n",
            "WARNING:tensorflow:From /usr/local/lib/python3.6/dist-packages/tensorflow/python/ops/math_ops.py:3066: to_int32 (from tensorflow.python.ops.math_ops) is deprecated and will be removed in a future version.\n",
            "Instructions for updating:\n",
            "Use tf.cast instead.\n",
            "Classifier trained.\n",
            "Training regressor for class 0, channel 0\n",
            "Training regressor for class 0, channel 1\n",
            "Training regressor for class 1, channel 0\n",
            "Training regressor for class 1, channel 1\n",
            "Training regressor for class 2, channel 0\n",
            "Training regressor for class 2, channel 1\n",
            "Training regressor for class 3, channel 0\n",
            "Training regressor for class 3, channel 1\n",
            "All done\n",
            "Classification accuracy:  0.7829773532252872\n",
            "Error for class 0, channel 0: 0.232307(MSE)\n",
            "Error for class 0, channel 1: 0.135425(MSE)\n",
            "Error for class 1, channel 0: 0.082095(MSE)\n",
            "Error for class 1, channel 1: 0.087454(MSE)\n",
            "Error for class 2, channel 0: 0.077804(MSE)\n",
            "Error for class 2, channel 1: 0.274988(MSE)\n",
            "Error for class 3, channel 0: 0.691994(MSE)\n",
            "Error for class 3, channel 1: 0.958363(MSE)\n",
            "Overall regression error for channel 0: 0.291050(MSE)\n",
            "Overall regression error for channel 1: 0.381585(MSE)\n",
            "{'conv': 2, 'hidden': 0}\n",
            "Training classifier\n",
            "Classifier trained.\n",
            "Training regressor for class 0, channel 0\n",
            "Training regressor for class 0, channel 1\n",
            "Training regressor for class 1, channel 0\n",
            "Training regressor for class 1, channel 1\n",
            "Training regressor for class 2, channel 0\n",
            "Training regressor for class 2, channel 1\n",
            "Training regressor for class 3, channel 0\n",
            "Training regressor for class 3, channel 1\n",
            "All done\n",
            "Classification accuracy:  0.8016528925619835\n",
            "Error for class 0, channel 0: 0.110662(MSE)\n",
            "Error for class 0, channel 1: 0.059009(MSE)\n",
            "Error for class 1, channel 0: 0.088166(MSE)\n",
            "Error for class 1, channel 1: 0.092421(MSE)\n",
            "Error for class 2, channel 0: 0.051532(MSE)\n",
            "Error for class 2, channel 1: 1.107458(MSE)\n",
            "Error for class 3, channel 0: 0.176615(MSE)\n",
            "Error for class 3, channel 1: 0.324672(MSE)\n",
            "Overall regression error for channel 0: 0.095797(MSE)\n",
            "Overall regression error for channel 1: 0.512954(MSE)\n",
            "{'conv': 3, 'hidden': 0}\n",
            "Training classifier\n",
            "Classifier trained.\n",
            "Training regressor for class 0, channel 0\n",
            "Training regressor for class 0, channel 1\n",
            "Training regressor for class 1, channel 0\n",
            "Training regressor for class 1, channel 1\n",
            "Training regressor for class 2, channel 0\n",
            "Training regressor for class 2, channel 1\n",
            "Training regressor for class 3, channel 0\n",
            "Training regressor for class 3, channel 1\n",
            "All done\n",
            "Classification accuracy:  0.799720940216808\n",
            "Error for class 0, channel 0: 0.010591(MSE)\n",
            "Error for class 0, channel 1: 0.029734(MSE)\n",
            "Error for class 1, channel 0: 0.046483(MSE)\n",
            "Error for class 1, channel 1: 0.067126(MSE)\n",
            "Error for class 2, channel 0: 0.191608(MSE)\n",
            "Error for class 2, channel 1: 0.444376(MSE)\n",
            "Error for class 3, channel 0: 0.407160(MSE)\n",
            "Error for class 3, channel 1: 0.814530(MSE)\n",
            "Overall regression error for channel 0: 0.166055(MSE)\n",
            "Overall regression error for channel 1: 0.350340(MSE)\n",
            "{'conv': 1, 'hidden': 1}\n",
            "Training classifier\n",
            "Classifier trained.\n",
            "Training regressor for class 0, channel 0\n",
            "Training regressor for class 0, channel 1\n",
            "Training regressor for class 1, channel 0\n",
            "Training regressor for class 1, channel 1\n",
            "Training regressor for class 2, channel 0\n",
            "Training regressor for class 2, channel 1\n",
            "Training regressor for class 3, channel 0\n",
            "Training regressor for class 3, channel 1\n",
            "All done\n",
            "Classification accuracy:  0.8823655683159816\n",
            "Error for class 0, channel 0: 0.041985(MSE)\n",
            "Error for class 0, channel 1: 0.059380(MSE)\n",
            "Error for class 1, channel 0: 0.041509(MSE)\n",
            "Error for class 1, channel 1: 0.069784(MSE)\n",
            "Error for class 2, channel 0: 0.121196(MSE)\n",
            "Error for class 2, channel 1: 0.656531(MSE)\n",
            "Error for class 3, channel 0: 0.169448(MSE)\n",
            "Error for class 3, channel 1: 0.359609(MSE)\n",
            "Overall regression error for channel 0: 0.088896(MSE)\n",
            "Overall regression error for channel 1: 0.302725(MSE)\n",
            "{'conv': 2, 'hidden': 1}\n",
            "Training classifier\n",
            "Classifier trained.\n",
            "Training regressor for class 0, channel 0\n",
            "Training regressor for class 0, channel 1\n",
            "Training regressor for class 1, channel 0\n",
            "Training regressor for class 1, channel 1\n",
            "Training regressor for class 2, channel 0\n",
            "Training regressor for class 2, channel 1\n",
            "Training regressor for class 3, channel 0\n",
            "Training regressor for class 3, channel 1\n",
            "All done\n",
            "Classification accuracy:  0.8528496297091338\n",
            "Error for class 0, channel 0: 0.318602(MSE)\n",
            "Error for class 0, channel 1: 0.198083(MSE)\n",
            "Error for class 1, channel 0: 0.043059(MSE)\n",
            "Error for class 1, channel 1: 0.058291(MSE)\n",
            "Error for class 2, channel 0: 0.071267(MSE)\n",
            "Error for class 2, channel 1: 0.201944(MSE)\n",
            "Error for class 3, channel 0: 0.052135(MSE)\n",
            "Error for class 3, channel 1: 0.053997(MSE)\n",
            "Overall regression error for channel 0: 0.161072(MSE)\n",
            "Overall regression error for channel 1: 0.155697(MSE)\n",
            "{'conv': 3, 'hidden': 1}\n",
            "Training classifier\n",
            "Classifier trained.\n",
            "Training regressor for class 0, channel 0\n",
            "Training regressor for class 0, channel 1\n",
            "Training regressor for class 1, channel 0\n",
            "Training regressor for class 1, channel 1\n",
            "Training regressor for class 2, channel 0\n",
            "Training regressor for class 2, channel 1\n",
            "Training regressor for class 3, channel 0\n",
            "Training regressor for class 3, channel 1\n",
            "All done\n",
            "Classification accuracy:  0.8403992701513363\n",
            "Error for class 0, channel 0: 0.023900(MSE)\n",
            "Error for class 0, channel 1: 0.026322(MSE)\n",
            "Error for class 1, channel 0: 0.032840(MSE)\n",
            "Error for class 1, channel 1: 0.057948(MSE)\n",
            "Error for class 2, channel 0: 0.064365(MSE)\n",
            "Error for class 2, channel 1: 0.431076(MSE)\n",
            "Error for class 3, channel 0: 0.040989(MSE)\n",
            "Error for class 3, channel 1: 0.072539(MSE)\n",
            "Overall regression error for channel 0: 0.041980(MSE)\n",
            "Overall regression error for channel 1: 0.175918(MSE)\n",
            "{'conv': 1, 'hidden': 2}\n",
            "Training classifier\n",
            "Classifier trained.\n",
            "Training regressor for class 0, channel 0\n",
            "Training regressor for class 0, channel 1\n",
            "Training regressor for class 1, channel 0\n",
            "Training regressor for class 1, channel 1\n",
            "Training regressor for class 2, channel 0\n",
            "Training regressor for class 2, channel 1\n",
            "Training regressor for class 3, channel 0\n",
            "Training regressor for class 3, channel 1\n",
            "All done\n",
            "Classification accuracy:  0.833530106257379\n",
            "Error for class 0, channel 0: 0.032744(MSE)\n",
            "Error for class 0, channel 1: 0.038252(MSE)\n",
            "Error for class 1, channel 0: 0.030742(MSE)\n",
            "Error for class 1, channel 1: 0.061166(MSE)\n",
            "Error for class 2, channel 0: 0.194811(MSE)\n",
            "Error for class 2, channel 1: 0.598782(MSE)\n",
            "Error for class 3, channel 0: 0.276309(MSE)\n",
            "Error for class 3, channel 1: 0.489380(MSE)\n",
            "Overall regression error for channel 0: 0.132440(MSE)\n",
            "Overall regression error for channel 1: 0.302286(MSE)\n",
            "{'conv': 2, 'hidden': 2}\n",
            "Training classifier\n",
            "Classifier trained.\n",
            "Training regressor for class 0, channel 0\n",
            "Training regressor for class 0, channel 1\n",
            "Training regressor for class 1, channel 0\n",
            "Training regressor for class 1, channel 1\n",
            "Training regressor for class 2, channel 0\n",
            "Training regressor for class 2, channel 1\n",
            "Training regressor for class 3, channel 0\n",
            "Training regressor for class 3, channel 1\n",
            "All done\n",
            "Classification accuracy:  0.9125254910378877\n",
            "Error for class 0, channel 0: 0.023637(MSE)\n",
            "Error for class 0, channel 1: 0.028704(MSE)\n",
            "Error for class 1, channel 0: 0.021893(MSE)\n",
            "Error for class 1, channel 1: 0.036707(MSE)\n",
            "Error for class 2, channel 0: 0.199474(MSE)\n",
            "Error for class 2, channel 1: 0.170338(MSE)\n",
            "Error for class 3, channel 0: 0.047984(MSE)\n",
            "Error for class 3, channel 1: 0.043898(MSE)\n",
            "Overall regression error for channel 0: 0.076505(MSE)\n",
            "Overall regression error for channel 1: 0.072848(MSE)\n",
            "{'conv': 3, 'hidden': 2}\n",
            "Training classifier\n",
            "Classifier trained.\n",
            "Training regressor for class 0, channel 0\n",
            "Training regressor for class 0, channel 1\n",
            "Training regressor for class 1, channel 0\n",
            "Training regressor for class 1, channel 1\n",
            "Training regressor for class 2, channel 0\n",
            "Training regressor for class 2, channel 1\n",
            "Training regressor for class 3, channel 0\n",
            "Training regressor for class 3, channel 1\n",
            "All done\n",
            "Classification accuracy:  0.790705162605989\n",
            "Error for class 0, channel 0: 0.019095(MSE)\n",
            "Error for class 0, channel 1: 0.031400(MSE)\n",
            "Error for class 1, channel 0: 0.047492(MSE)\n",
            "Error for class 1, channel 1: 0.053177(MSE)\n",
            "Error for class 2, channel 0: 0.081739(MSE)\n",
            "Error for class 2, channel 1: 0.624595(MSE)\n",
            "Error for class 3, channel 0: 0.326859(MSE)\n",
            "Error for class 3, channel 1: 0.498564(MSE)\n",
            "Overall regression error for channel 0: 0.100848(MSE)\n",
            "Overall regression error for channel 1: 0.355795(MSE)\n",
            "CPU times: user 5h 24min 17s, sys: 28min 12s, total: 5h 52min 29s\n",
            "Wall time: 4h 21min 50s\n"
          ],
          "name": "stdout"
        }
      ]
    },
    {
      "metadata": {
        "id": "wjumi9wU3sBy",
        "colab_type": "code",
        "outputId": "463112b7-4200-4a93-cd52-4b6dbcf991fd",
        "colab": {
          "base_uri": "https://localhost:8080/",
          "height": 204
        }
      },
      "cell_type": "code",
      "source": [
        "%%time\n",
        "!mkdir cnn_search\n",
        "for p in params:\n",
        "  print(p)\n",
        "  name = '/gdrive/My Drive/strizh/cnn_search/conv_{}_hidden_{}.npy'.format(p['conv'], p['hidden'])\n",
        "  !cp \"$name\" cnn_search/\n",
        "  "
      ],
      "execution_count": 0,
      "outputs": [
        {
          "output_type": "stream",
          "text": [
            "{'conv': 1, 'hidden': 0}\n",
            "{'conv': 2, 'hidden': 0}\n",
            "{'conv': 3, 'hidden': 0}\n",
            "{'conv': 1, 'hidden': 1}\n",
            "{'conv': 2, 'hidden': 1}\n",
            "{'conv': 3, 'hidden': 1}\n",
            "{'conv': 1, 'hidden': 2}\n",
            "{'conv': 2, 'hidden': 2}\n",
            "{'conv': 3, 'hidden': 2}\n",
            "CPU times: user 252 ms, sys: 87.5 ms, total: 340 ms\n",
            "Wall time: 16.1 s\n"
          ],
          "name": "stdout"
        }
      ]
    },
    {
      "metadata": {
        "id": "nrQOrddX_iM7",
        "colab_type": "code",
        "colab": {}
      },
      "cell_type": "code",
      "source": [
        "total_hist = dict()\n",
        "for p in params:\n",
        "  name = 'cnn_search/conv_{}_hidden_{}.npy'.format(p['conv'], p['hidden'])\n",
        "  hist = np.load(name)[()]\n",
        "  total_hist[(p['conv'], p['hidden'])] = hist\n"
      ],
      "execution_count": 0,
      "outputs": []
    },
    {
      "metadata": {
        "id": "lyBMkbC6U8e2",
        "colab_type": "code",
        "colab": {}
      },
      "cell_type": "code",
      "source": [
        "import matplotlib"
      ],
      "execution_count": 0,
      "outputs": []
    },
    {
      "metadata": {
        "id": "0CNHICHMInBH",
        "colab_type": "code",
        "outputId": "074e0810-29aa-4431-efbd-d43fd152e86a",
        "colab": {
          "base_uri": "https://localhost:8080/",
          "height": 938
        }
      },
      "cell_type": "code",
      "source": [
        "matplotlib.rcParams.update({'font.size': 14})\n",
        "\n",
        "off = 20\n",
        "keys = [(3, 2), (2, 2), (1, 1)]\n",
        "for k in keys:\n",
        "  plt.figure(figsize=(5, 4))\n",
        "  v = total_hist[k]\n",
        "  vals = v['classifier']['val_acc']\n",
        "  grid = np.arange(off, len(vals))\n",
        "  plt.plot(grid, vals[off:], label=\"Валидационная выборка\", color=(k[0]/4, k[1]/4, 0.5))\n",
        "  print(k, np.max(vals))\n",
        "  vals = v['classifier']['acc']\n",
        "  grid = np.arange(off, len(vals))\n",
        "  plt.plot(grid, vals[off:], label=\"Обучающая выборка\", color=(k[0]/4, k[1]/4, 0.5), linestyle='--')\n",
        "  plt.title(\"Свёрточных: {}, Полносвязных: {}\".format(k[0], k[1]))\n",
        "  plt.xlabel(\"Номер эпохи\")\n",
        "  plt.ylabel(\"Точность\")\n",
        "  plt.legend(loc='lower left')\n",
        "  plt.grid()\n",
        "  plt.savefig(\"cnn{}{}.eps\".format(k[0], k[1]), dpi=300, bbox_inches='tight')\n",
        "  plt.show()"
      ],
      "execution_count": 0,
      "outputs": [
        {
          "output_type": "stream",
          "text": [
            "(3, 2) 0.9279811097992916\n"
          ],
          "name": "stdout"
        },
        {
          "output_type": "display_data",
          "data": {
            "image/png": "[encoded data removed]",
            "text/plain": [
              "<Figure size 360x288 with 1 Axes>"
            ]
          },
          "metadata": {
            "tags": []
          }
        },
        {
          "output_type": "stream",
          "text": [
            "(2, 2) 0.9172480412149834\n"
          ],
          "name": "stdout"
        },
        {
          "output_type": "display_data",
          "data": {
            "image/png": "[encoded data removed]",
            "text/plain": [
              "<Figure size 360x288 with 1 Axes>"
            ]
          },
          "metadata": {
            "tags": []
          }
        },
        {
          "output_type": "stream",
          "text": [
            "(1, 1) 0.9166040570999249\n"
          ],
          "name": "stdout"
        },
        {
          "output_type": "display_data",
          "data": {
            "image/png": "[encoded data removed]",
            "text/plain": [
              "<Figure size 360x288 with 1 Axes>"
            ]
          },
          "metadata": {
            "tags": []
          }
        }
      ]
    },
    {
      "metadata": {
        "id": "osml0SPz7gAf",
        "colab_type": "code",
        "outputId": "c8043c3c-3fbc-4ba8-bfea-4f14e7b91668",
        "colab": {
          "base_uri": "https://localhost:8080/",
          "height": 989
        }
      },
      "cell_type": "code",
      "source": [
        "matplotlib.rcParams.update({'font.size': 14})\n",
        "off = 20\n",
        "keys = [(3, 2), (2, 2), (1, 1)]\n",
        "for k in keys:\n",
        "  plt.figure(figsize=(5, 4))\n",
        "  v = total_hist[k]\n",
        "  arrs = []\n",
        "  for res in v['regressor']:\n",
        "    arrs.append(np.array(res['val_loss']))\n",
        "  vals = np.vstack(arrs).mean(axis=0)\n",
        "  print(k, np.min(vals))\n",
        "  grid = np.arange(off, len(vals))\n",
        "  plt.plot(grid, vals[off:], label=\"Валидационная выборка\", color=(k[0]/4, k[1]/4, 0.5))\n",
        "  print(k, np.min(vals))\n",
        "  arrs = []\n",
        "  for res in v['regressor']:\n",
        "    arrs.append(np.array(res['loss']))\n",
        "  vals = np.vstack(arrs).mean(axis=0)\n",
        "  grid = np.arange(off, len(vals))\n",
        "  plt.plot(grid, vals[off:], label=\"Обучающая выборка\", color=(k[0]/4, k[1]/4, 0.5), linestyle='--')\n",
        "  plt.title(\"Свёрточных: {}, Полносвязных: {}\".format(k[0], k[1]))\n",
        "  plt.xlabel(\"Номер эпохи\")\n",
        "  plt.ylabel(\"MSE\")\n",
        "  plt.legend(loc='upper right')\n",
        "  plt.grid()\n",
        "  plt.savefig(\"cnn{}{}_mse.eps\".format(k[0], k[1]), dpi=300, bbox_inches='tight')\n",
        "  plt.show()"
      ],
      "execution_count": 0,
      "outputs": [
        {
          "output_type": "stream",
          "text": [
            "(3, 2) 0.023338736478778016\n",
            "(3, 2) 0.023338736478778016\n"
          ],
          "name": "stdout"
        },
        {
          "output_type": "display_data",
          "data": {
            "image/png": "[encoded data removed]",
            "text/plain": [
              "<Figure size 360x288 with 1 Axes>"
            ]
          },
          "metadata": {
            "tags": []
          }
        },
        {
          "output_type": "stream",
          "text": [
            "(2, 2) 0.02820768476470837\n",
            "(2, 2) 0.02820768476470837\n"
          ],
          "name": "stdout"
        },
        {
          "output_type": "display_data",
          "data": {
            "image/png": "[encoded data removed]",
            "text/plain": [
              "<Figure size 360x288 with 1 Axes>"
            ]
          },
          "metadata": {
            "tags": []
          }
        },
        {
          "output_type": "stream",
          "text": [
            "(1, 1) 0.044426089252678734\n",
            "(1, 1) 0.044426089252678734\n"
          ],
          "name": "stdout"
        },
        {
          "output_type": "display_data",
          "data": {
            "image/png": "[encoded data removed]",
            "text/plain": [
              "<Figure size 360x288 with 1 Axes>"
            ]
          },
          "metadata": {
            "tags": []
          }
        }
      ]
    },
    {
      "metadata": {
        "id": "-EHeZWWk7F2y",
        "colab_type": "code",
        "outputId": "77a9d45a-a1a6-4ab1-9946-8089088a3d03",
        "colab": {
          "base_uri": "https://localhost:8080/",
          "height": 34
        }
      },
      "cell_type": "code",
      "source": [
        "len(total_hist[(1, 1)]['regressor'])"
      ],
      "execution_count": 0,
      "outputs": [
        {
          "output_type": "execute_result",
          "data": {
            "text/plain": [
              "8"
            ]
          },
          "metadata": {
            "tags": []
          },
          "execution_count": 42
        }
      ]
    },
    {
      "metadata": {
        "id": "aHOStnUuLDjR",
        "colab_type": "code",
        "outputId": "f0dd248f-da0e-4cfb-dff8-5c3329c300c3",
        "colab": {
          "base_uri": "https://localhost:8080/",
          "height": 34
        }
      },
      "cell_type": "code",
      "source": [
        "total_hist[(1, 2)]['classifier']['acc'][-1]"
      ],
      "execution_count": 0,
      "outputs": [
        {
          "output_type": "execute_result",
          "data": {
            "text/plain": [
              "0.9869390160070706"
            ]
          },
          "metadata": {
            "tags": []
          },
          "execution_count": 31
        }
      ]
    },
    {
      "metadata": {
        "id": "Tdws90fBfI47",
        "colab_type": "code",
        "colab": {}
      },
      "cell_type": "code",
      "source": [
        "np.save('cnn_hist', hist)\n",
        "!cp cnn_hist.npy \"/gdrive/My Drive/strizh\""
      ],
      "execution_count": 0,
      "outputs": []
    },
    {
      "metadata": {
        "id": "tNRUp-AcQCjU",
        "colab_type": "code",
        "outputId": "97ebac93-3e44-47db-a634-3cc6aa6226ea",
        "colab": {
          "base_uri": "https://localhost:8080/",
          "height": 68
        }
      },
      "cell_type": "code",
      "source": [
        "hist = model.fit(feature_train.reshape(-1, 200, 6), to_categorical(label_train), batch_size=16, epochs=1,\n",
        "         validation_data=(feature_val.reshape(-1, 200, 6), to_categorical(label_val)))"
      ],
      "execution_count": 0,
      "outputs": [
        {
          "output_type": "stream",
          "text": [
            "Train on 10183 samples, validate on 9317 samples\n",
            "Epoch 1/1\n",
            "10183/10183 [==============================] - 8s 748us/step - loss: 0.0715 - acc: 0.9836 - val_loss: 0.4089 - val_acc: 0.8562\n"
          ],
          "name": "stdout"
        }
      ]
    },
    {
      "metadata": {
        "id": "r7QwQ_kFRLUx",
        "colab_type": "code",
        "colab": {}
      },
      "cell_type": "code",
      "source": [
        "!cp \"/gdrive/My Drive/strizh/cnn_hist.npy\" .\n",
        "hist = np.load('cnn_hist.npy')"
      ],
      "execution_count": 0,
      "outputs": []
    },
    {
      "metadata": {
        "id": "aFiDPOOV5MQI",
        "colab_type": "code",
        "colab": {}
      },
      "cell_type": "code",
      "source": [
        "cls_hist = hist[()]['classifier']\n",
        "regr_hist = hist[()]['regressor']"
      ],
      "execution_count": 0,
      "outputs": []
    },
    {
      "metadata": {
        "id": "73tvxERN5TKR",
        "colab_type": "code",
        "outputId": "98bbbb37-2f3e-4919-ef80-6b02c2ac18cc",
        "colab": {
          "base_uri": "https://localhost:8080/",
          "height": 364
        }
      },
      "cell_type": "code",
      "source": [
        "i = 4\n",
        "for k in {'loss', 'val_loss'}:\n",
        "  plt.plot(regr_hist[i][k], label=k)\n",
        "plt.legend()\n",
        "plt.show()\n",
        "print(np.min(regr_hist[i]['val_loss']))"
      ],
      "execution_count": 0,
      "outputs": [
        {
          "output_type": "display_data",
          "data": {
            "image/png": "[encoded data removed]",
            "text/plain": [
              "<Figure size 576x396 with 1 Axes>"
            ]
          },
          "metadata": {
            "tags": []
          }
        },
        {
          "output_type": "stream",
          "text": [
            "0.013057439072913565\n"
          ],
          "name": "stdout"
        }
      ]
    },
    {
      "metadata": {
        "id": "vMoTpiTfn2_B",
        "colab_type": "code",
        "outputId": "68c7039b-454b-4238-a8cc-a68ef4aa0c10",
        "colab": {
          "base_uri": "https://localhost:8080/",
          "height": 442
        }
      },
      "cell_type": "code",
      "source": [
        "from keras.models import Sequential\n",
        "from keras.layers import Dense\n",
        "from keras.layers import Flatten\n",
        "from keras.layers import Conv1D, AveragePooling1D\n",
        "from keras.utils import to_categorical\n",
        "from keras.optimizers import Adam\n",
        "\n",
        "model = Sequential()\n",
        "model.add(Conv1D(12, 7, activation='relu', input_shape=(200, 6)))\n",
        "model.add(AveragePooling1D(3))\n",
        "model.add(Conv1D(12, 7, activation='relu'))\n",
        "model.add(AveragePooling1D(3))\n",
        "model.add(Conv1D(12, 7, activation='relu'))\n",
        "model.add(AveragePooling1D(3))\n",
        "model.add(Flatten())\n",
        "model.add(Dense(16, activation='relu'))\n",
        "model.add(Dense(2))\n",
        "\n",
        "model.compile(loss='mean_squared_error',\n",
        "              optimizer=Adam(lr=1e-4),\n",
        "              metrics=['mean_absolute_percentage_error', 'mean_absolute_error'])\n",
        "model.summary()"
      ],
      "execution_count": 0,
      "outputs": [
        {
          "output_type": "stream",
          "text": [
            "_________________________________________________________________\n",
            "Layer (type)                 Output Shape              Param #   \n",
            "=================================================================\n",
            "conv1d_43 (Conv1D)           (None, 194, 12)           516       \n",
            "_________________________________________________________________\n",
            "average_pooling1d_43 (Averag (None, 64, 12)            0         \n",
            "_________________________________________________________________\n",
            "conv1d_44 (Conv1D)           (None, 58, 12)            1020      \n",
            "_________________________________________________________________\n",
            "average_pooling1d_44 (Averag (None, 19, 12)            0         \n",
            "_________________________________________________________________\n",
            "conv1d_45 (Conv1D)           (None, 13, 12)            1020      \n",
            "_________________________________________________________________\n",
            "average_pooling1d_45 (Averag (None, 4, 12)             0         \n",
            "_________________________________________________________________\n",
            "flatten_20 (Flatten)         (None, 48)                0         \n",
            "_________________________________________________________________\n",
            "dense_29 (Dense)             (None, 16)                784       \n",
            "_________________________________________________________________\n",
            "dense_30 (Dense)             (None, 2)                 34        \n",
            "=================================================================\n",
            "Total params: 3,374\n",
            "Trainable params: 3,374\n",
            "Non-trainable params: 0\n",
            "_________________________________________________________________\n"
          ],
          "name": "stdout"
        }
      ]
    },
    {
      "metadata": {
        "id": "88v9Wj5LsC7q",
        "colab_type": "text"
      },
      "cell_type": "markdown",
      "source": [
        "model.fit(feature_train.reshape(-1, 200, 6), to_categorical(label_train), batch_size=16, epochs=60,\n",
        "         validation_data=(feature_val.reshape(-1, 200, 6), to_categorical(label_val)))"
      ]
    },
    {
      "metadata": {
        "id": "Ib2YRSQ9cOuh",
        "colab_type": "code",
        "outputId": "5cb13005-548a-4005-fc1e-3f566bea8859",
        "colab": {
          "base_uri": "https://localhost:8080/",
          "height": 2111
        }
      },
      "cell_type": "code",
      "source": [
        "model.fit(feature_train.reshape(-1, 200, 6), responses_train, batch_size=16, epochs=60,\n",
        "         validation_data=(feature_val.reshape(-1, 200, 6), responses_val))"
      ],
      "execution_count": 0,
      "outputs": [
        {
          "output_type": "stream",
          "text": [
            "Train on 109365 samples, validate on 43518 samples\n",
            "Epoch 1/60\n",
            "109365/109365 [==============================] - 57s 517us/step - loss: 0.1254 - mean_absolute_percentage_error: 2910.6743 - mean_absolute_error: 0.2465 - val_loss: 0.0605 - val_mean_absolute_percentage_error: 1174.2117 - val_mean_absolute_error: 0.1784\n",
            "Epoch 2/60\n",
            "109365/109365 [==============================] - 55s 506us/step - loss: 0.0410 - mean_absolute_percentage_error: 999.4717 - mean_absolute_error: 0.1468 - val_loss: 0.0481 - val_mean_absolute_percentage_error: 799.0041 - val_mean_absolute_error: 0.1579\n",
            "Epoch 3/60\n",
            "109365/109365 [==============================] - 55s 506us/step - loss: 0.0332 - mean_absolute_percentage_error: 749.1203 - mean_absolute_error: 0.1310 - val_loss: 0.0425 - val_mean_absolute_percentage_error: 755.4915 - val_mean_absolute_error: 0.1476\n",
            "Epoch 4/60\n",
            "109365/109365 [==============================] - 56s 511us/step - loss: 0.0295 - mean_absolute_percentage_error: 690.8475 - mean_absolute_error: 0.1232 - val_loss: 0.0395 - val_mean_absolute_percentage_error: 688.0050 - val_mean_absolute_error: 0.1417\n",
            "Epoch 5/60\n",
            "109365/109365 [==============================] - 57s 522us/step - loss: 0.0271 - mean_absolute_percentage_error: 639.1911 - mean_absolute_error: 0.1178 - val_loss: 0.0371 - val_mean_absolute_percentage_error: 676.1810 - val_mean_absolute_error: 0.1373\n",
            "Epoch 6/60\n",
            "109365/109365 [==============================] - 61s 562us/step - loss: 0.0254 - mean_absolute_percentage_error: 640.8487 - mean_absolute_error: 0.1138 - val_loss: 0.0349 - val_mean_absolute_percentage_error: 627.7029 - val_mean_absolute_error: 0.1319\n",
            "Epoch 7/60\n",
            "109365/109365 [==============================] - 61s 556us/step - loss: 0.0240 - mean_absolute_percentage_error: 649.5891 - mean_absolute_error: 0.1107 - val_loss: 0.0333 - val_mean_absolute_percentage_error: 632.2095 - val_mean_absolute_error: 0.1276\n",
            "Epoch 8/60\n",
            "109365/109365 [==============================] - 61s 555us/step - loss: 0.0229 - mean_absolute_percentage_error: 621.9811 - mean_absolute_error: 0.1081 - val_loss: 0.0324 - val_mean_absolute_percentage_error: 620.7797 - val_mean_absolute_error: 0.1268\n",
            "Epoch 9/60\n",
            "109365/109365 [==============================] - 57s 518us/step - loss: 0.0221 - mean_absolute_percentage_error: 606.9005 - mean_absolute_error: 0.1060 - val_loss: 0.0312 - val_mean_absolute_percentage_error: 666.4307 - val_mean_absolute_error: 0.1233\n",
            "Epoch 10/60\n",
            "109365/109365 [==============================] - 54s 497us/step - loss: 0.0214 - mean_absolute_percentage_error: 587.9591 - mean_absolute_error: 0.1042 - val_loss: 0.0311 - val_mean_absolute_percentage_error: 728.8846 - val_mean_absolute_error: 0.1236\n",
            "Epoch 11/60\n",
            "109365/109365 [==============================] - 54s 498us/step - loss: 0.0207 - mean_absolute_percentage_error: 633.0190 - mean_absolute_error: 0.1026 - val_loss: 0.0302 - val_mean_absolute_percentage_error: 598.6454 - val_mean_absolute_error: 0.1216\n",
            "Epoch 12/60\n",
            "109365/109365 [==============================] - 55s 500us/step - loss: 0.0202 - mean_absolute_percentage_error: 623.2683 - mean_absolute_error: 0.1013 - val_loss: 0.0295 - val_mean_absolute_percentage_error: 660.6431 - val_mean_absolute_error: 0.1205\n",
            "Epoch 13/60\n",
            "109365/109365 [==============================] - 55s 501us/step - loss: 0.0197 - mean_absolute_percentage_error: 576.2231 - mean_absolute_error: 0.1001 - val_loss: 0.0289 - val_mean_absolute_percentage_error: 703.5186 - val_mean_absolute_error: 0.1197\n",
            "Epoch 14/60\n",
            "109365/109365 [==============================] - 55s 500us/step - loss: 0.0192 - mean_absolute_percentage_error: 643.7956 - mean_absolute_error: 0.0991 - val_loss: 0.0286 - val_mean_absolute_percentage_error: 652.6643 - val_mean_absolute_error: 0.1180\n",
            "Epoch 15/60\n",
            "109365/109365 [==============================] - 55s 501us/step - loss: 0.0188 - mean_absolute_percentage_error: 525.4557 - mean_absolute_error: 0.0980 - val_loss: 0.0281 - val_mean_absolute_percentage_error: 554.8672 - val_mean_absolute_error: 0.1162\n",
            "Epoch 16/60\n",
            "109365/109365 [==============================] - 56s 509us/step - loss: 0.0185 - mean_absolute_percentage_error: 579.5730 - mean_absolute_error: 0.0972 - val_loss: 0.0276 - val_mean_absolute_percentage_error: 641.5114 - val_mean_absolute_error: 0.1173\n",
            "Epoch 17/60\n",
            "109365/109365 [==============================] - 56s 514us/step - loss: 0.0182 - mean_absolute_percentage_error: 635.0063 - mean_absolute_error: 0.0964 - val_loss: 0.0270 - val_mean_absolute_percentage_error: 570.2962 - val_mean_absolute_error: 0.1140\n",
            "Epoch 18/60\n",
            "109365/109365 [==============================] - 60s 549us/step - loss: 0.0179 - mean_absolute_percentage_error: 564.0831 - mean_absolute_error: 0.0956 - val_loss: 0.0267 - val_mean_absolute_percentage_error: 575.1628 - val_mean_absolute_error: 0.1145\n",
            "Epoch 19/60\n",
            "109365/109365 [==============================] - 60s 548us/step - loss: 0.0176 - mean_absolute_percentage_error: 583.1540 - mean_absolute_error: 0.0949 - val_loss: 0.0260 - val_mean_absolute_percentage_error: 624.3240 - val_mean_absolute_error: 0.1129\n",
            "Epoch 20/60\n",
            "109365/109365 [==============================] - 61s 554us/step - loss: 0.0173 - mean_absolute_percentage_error: 576.9797 - mean_absolute_error: 0.0941 - val_loss: 0.0261 - val_mean_absolute_percentage_error: 557.4392 - val_mean_absolute_error: 0.1131\n",
            "Epoch 21/60\n",
            "109365/109365 [==============================] - 59s 541us/step - loss: 0.0171 - mean_absolute_percentage_error: 591.5771 - mean_absolute_error: 0.0935 - val_loss: 0.0257 - val_mean_absolute_percentage_error: 477.0545 - val_mean_absolute_error: 0.1116\n",
            "Epoch 22/60\n",
            "109365/109365 [==============================] - 55s 499us/step - loss: 0.0168 - mean_absolute_percentage_error: 556.8108 - mean_absolute_error: 0.0928 - val_loss: 0.0260 - val_mean_absolute_percentage_error: 493.1668 - val_mean_absolute_error: 0.1134\n",
            "Epoch 23/60\n",
            "109365/109365 [==============================] - 54s 495us/step - loss: 0.0166 - mean_absolute_percentage_error: 479.1230 - mean_absolute_error: 0.0923 - val_loss: 0.0254 - val_mean_absolute_percentage_error: 503.2782 - val_mean_absolute_error: 0.1110\n",
            "Epoch 24/60\n",
            "109365/109365 [==============================] - 54s 494us/step - loss: 0.0164 - mean_absolute_percentage_error: 534.1168 - mean_absolute_error: 0.0917 - val_loss: 0.0256 - val_mean_absolute_percentage_error: 533.0256 - val_mean_absolute_error: 0.1122\n",
            "Epoch 25/60\n",
            "109365/109365 [==============================] - 55s 502us/step - loss: 0.0162 - mean_absolute_percentage_error: 524.0941 - mean_absolute_error: 0.0913 - val_loss: 0.0250 - val_mean_absolute_percentage_error: 488.1269 - val_mean_absolute_error: 0.1101\n",
            "Epoch 26/60\n",
            "109365/109365 [==============================] - 55s 499us/step - loss: 0.0160 - mean_absolute_percentage_error: 567.0833 - mean_absolute_error: 0.0907 - val_loss: 0.0249 - val_mean_absolute_percentage_error: 480.1028 - val_mean_absolute_error: 0.1097\n",
            "Epoch 27/60\n",
            "109365/109365 [==============================] - 55s 501us/step - loss: 0.0159 - mean_absolute_percentage_error: 559.4369 - mean_absolute_error: 0.0903 - val_loss: 0.0248 - val_mean_absolute_percentage_error: 488.8770 - val_mean_absolute_error: 0.1096\n",
            "Epoch 28/60\n",
            "109365/109365 [==============================] - 54s 496us/step - loss: 0.0157 - mean_absolute_percentage_error: 498.6354 - mean_absolute_error: 0.0899 - val_loss: 0.0245 - val_mean_absolute_percentage_error: 423.8076 - val_mean_absolute_error: 0.1090\n",
            "Epoch 29/60\n",
            "109365/109365 [==============================] - 57s 523us/step - loss: 0.0155 - mean_absolute_percentage_error: 481.7671 - mean_absolute_error: 0.0894 - val_loss: 0.0248 - val_mean_absolute_percentage_error: 438.8179 - val_mean_absolute_error: 0.1108\n",
            "Epoch 30/60\n",
            "109365/109365 [==============================] - 58s 532us/step - loss: 0.0154 - mean_absolute_percentage_error: 508.4908 - mean_absolute_error: 0.0890 - val_loss: 0.0242 - val_mean_absolute_percentage_error: 460.3181 - val_mean_absolute_error: 0.1080\n",
            "Epoch 31/60\n",
            "109365/109365 [==============================] - 61s 557us/step - loss: 0.0152 - mean_absolute_percentage_error: 491.1333 - mean_absolute_error: 0.0887 - val_loss: 0.0244 - val_mean_absolute_percentage_error: 421.8407 - val_mean_absolute_error: 0.1087\n",
            "Epoch 32/60\n",
            "109365/109365 [==============================] - 61s 554us/step - loss: 0.0151 - mean_absolute_percentage_error: 522.0247 - mean_absolute_error: 0.0884 - val_loss: 0.0243 - val_mean_absolute_percentage_error: 460.6552 - val_mean_absolute_error: 0.1092\n",
            "Epoch 33/60\n",
            "109365/109365 [==============================] - 60s 549us/step - loss: 0.0150 - mean_absolute_percentage_error: 501.6287 - mean_absolute_error: 0.0879 - val_loss: 0.0242 - val_mean_absolute_percentage_error: 446.8126 - val_mean_absolute_error: 0.1082\n",
            "Epoch 34/60\n",
            "109365/109365 [==============================] - 55s 507us/step - loss: 0.0149 - mean_absolute_percentage_error: 503.9458 - mean_absolute_error: 0.0877 - val_loss: 0.0238 - val_mean_absolute_percentage_error: 420.5527 - val_mean_absolute_error: 0.1077\n",
            "Epoch 35/60\n",
            "109365/109365 [==============================] - 54s 495us/step - loss: 0.0148 - mean_absolute_percentage_error: 520.7928 - mean_absolute_error: 0.0873 - val_loss: 0.0246 - val_mean_absolute_percentage_error: 471.3885 - val_mean_absolute_error: 0.1093\n",
            "Epoch 36/60\n",
            "109365/109365 [==============================] - 55s 502us/step - loss: 0.0147 - mean_absolute_percentage_error: 508.3696 - mean_absolute_error: 0.0872 - val_loss: 0.0237 - val_mean_absolute_percentage_error: 379.8752 - val_mean_absolute_error: 0.1075\n",
            "Epoch 37/60\n",
            "109365/109365 [==============================] - 54s 497us/step - loss: 0.0145 - mean_absolute_percentage_error: 487.1903 - mean_absolute_error: 0.0869 - val_loss: 0.0246 - val_mean_absolute_percentage_error: 509.0457 - val_mean_absolute_error: 0.1095\n",
            "Epoch 38/60\n",
            "109365/109365 [==============================] - 55s 501us/step - loss: 0.0144 - mean_absolute_percentage_error: 491.2393 - mean_absolute_error: 0.0865 - val_loss: 0.0239 - val_mean_absolute_percentage_error: 458.9592 - val_mean_absolute_error: 0.1089\n",
            "Epoch 39/60\n",
            "109365/109365 [==============================] - 55s 500us/step - loss: 0.0143 - mean_absolute_percentage_error: 557.7469 - mean_absolute_error: 0.0862 - val_loss: 0.0233 - val_mean_absolute_percentage_error: 416.8093 - val_mean_absolute_error: 0.1067\n",
            "Epoch 40/60\n",
            "109365/109365 [==============================] - 56s 511us/step - loss: 0.0142 - mean_absolute_percentage_error: 509.9388 - mean_absolute_error: 0.0860 - val_loss: 0.0235 - val_mean_absolute_percentage_error: 427.2245 - val_mean_absolute_error: 0.1073\n",
            "Epoch 41/60\n",
            "109365/109365 [==============================] - 57s 523us/step - loss: 0.0141 - mean_absolute_percentage_error: 509.8200 - mean_absolute_error: 0.0858 - val_loss: 0.0230 - val_mean_absolute_percentage_error: 428.4814 - val_mean_absolute_error: 0.1055\n",
            "Epoch 42/60\n",
            "109365/109365 [==============================] - 61s 560us/step - loss: 0.0140 - mean_absolute_percentage_error: 513.9520 - mean_absolute_error: 0.0854 - val_loss: 0.0231 - val_mean_absolute_percentage_error: 489.5090 - val_mean_absolute_error: 0.1062\n",
            "Epoch 43/60\n",
            "109365/109365 [==============================] - 61s 555us/step - loss: 0.0140 - mean_absolute_percentage_error: 474.9485 - mean_absolute_error: 0.0852 - val_loss: 0.0232 - val_mean_absolute_percentage_error: 495.9311 - val_mean_absolute_error: 0.1068\n",
            "Epoch 44/60\n",
            "109365/109365 [==============================] - 60s 552us/step - loss: 0.0139 - mean_absolute_percentage_error: 546.1748 - mean_absolute_error: 0.0850 - val_loss: 0.0231 - val_mean_absolute_percentage_error: 447.8315 - val_mean_absolute_error: 0.1066\n",
            "Epoch 45/60\n",
            "109365/109365 [==============================] - 55s 505us/step - loss: 0.0138 - mean_absolute_percentage_error: 467.0727 - mean_absolute_error: 0.0847 - val_loss: 0.0235 - val_mean_absolute_percentage_error: 456.5661 - val_mean_absolute_error: 0.1077\n",
            "Epoch 46/60\n",
            "109365/109365 [==============================] - 53s 487us/step - loss: 0.0137 - mean_absolute_percentage_error: 495.8786 - mean_absolute_error: 0.0844 - val_loss: 0.0230 - val_mean_absolute_percentage_error: 417.2613 - val_mean_absolute_error: 0.1054\n",
            "Epoch 47/60\n",
            "109365/109365 [==============================] - 55s 502us/step - loss: 0.0136 - mean_absolute_percentage_error: 454.2527 - mean_absolute_error: 0.0842 - val_loss: 0.0233 - val_mean_absolute_percentage_error: 484.4751 - val_mean_absolute_error: 0.1074\n",
            "Epoch 48/60\n",
            "109365/109365 [==============================] - 54s 494us/step - loss: 0.0135 - mean_absolute_percentage_error: 497.1484 - mean_absolute_error: 0.0840 - val_loss: 0.0234 - val_mean_absolute_percentage_error: 540.1321 - val_mean_absolute_error: 0.1069\n",
            "Epoch 49/60\n",
            "109365/109365 [==============================] - 55s 500us/step - loss: 0.0134 - mean_absolute_percentage_error: 489.7675 - mean_absolute_error: 0.0838 - val_loss: 0.0227 - val_mean_absolute_percentage_error: 394.1028 - val_mean_absolute_error: 0.1051\n",
            "Epoch 50/60\n",
            "109365/109365 [==============================] - 54s 497us/step - loss: 0.0134 - mean_absolute_percentage_error: 490.2665 - mean_absolute_error: 0.0835 - val_loss: 0.0227 - val_mean_absolute_percentage_error: 434.1201 - val_mean_absolute_error: 0.1051\n",
            "Epoch 51/60\n",
            "109365/109365 [==============================] - 59s 542us/step - loss: 0.0133 - mean_absolute_percentage_error: 492.3178 - mean_absolute_error: 0.0833 - val_loss: 0.0224 - val_mean_absolute_percentage_error: 459.0794 - val_mean_absolute_error: 0.1042\n",
            "Epoch 52/60\n",
            "109365/109365 [==============================] - 61s 553us/step - loss: 0.0132 - mean_absolute_percentage_error: 497.7501 - mean_absolute_error: 0.0831 - val_loss: 0.0230 - val_mean_absolute_percentage_error: 462.0359 - val_mean_absolute_error: 0.1072\n",
            "Epoch 53/60\n",
            "109365/109365 [==============================] - 61s 557us/step - loss: 0.0132 - mean_absolute_percentage_error: 460.1918 - mean_absolute_error: 0.0829 - val_loss: 0.0236 - val_mean_absolute_percentage_error: 647.9314 - val_mean_absolute_error: 0.1078\n",
            "Epoch 54/60\n",
            "109365/109365 [==============================] - 58s 526us/step - loss: 0.0131 - mean_absolute_percentage_error: 506.9765 - mean_absolute_error: 0.0827 - val_loss: 0.0225 - val_mean_absolute_percentage_error: 371.2177 - val_mean_absolute_error: 0.1049\n",
            "Epoch 55/60\n",
            "109365/109365 [==============================] - 54s 490us/step - loss: 0.0130 - mean_absolute_percentage_error: 523.6930 - mean_absolute_error: 0.0825 - val_loss: 0.0225 - val_mean_absolute_percentage_error: 423.3883 - val_mean_absolute_error: 0.1051\n",
            "Epoch 56/60\n",
            "109365/109365 [==============================] - 54s 490us/step - loss: 0.0129 - mean_absolute_percentage_error: 559.1553 - mean_absolute_error: 0.0822 - val_loss: 0.0225 - val_mean_absolute_percentage_error: 435.3580 - val_mean_absolute_error: 0.1054\n",
            "Epoch 57/60\n",
            "109365/109365 [==============================] - 54s 495us/step - loss: 0.0129 - mean_absolute_percentage_error: 505.2482 - mean_absolute_error: 0.0822 - val_loss: 0.0221 - val_mean_absolute_percentage_error: 416.1468 - val_mean_absolute_error: 0.1034\n",
            "Epoch 58/60\n",
            "109365/109365 [==============================] - 55s 500us/step - loss: 0.0128 - mean_absolute_percentage_error: 506.7602 - mean_absolute_error: 0.0819 - val_loss: 0.0222 - val_mean_absolute_percentage_error: 501.9361 - val_mean_absolute_error: 0.1046\n",
            "Epoch 59/60\n",
            "109365/109365 [==============================] - 54s 496us/step - loss: 0.0128 - mean_absolute_percentage_error: 520.4238 - mean_absolute_error: 0.0818 - val_loss: 0.0226 - val_mean_absolute_percentage_error: 461.6907 - val_mean_absolute_error: 0.1057\n",
            "Epoch 60/60\n",
            "109365/109365 [==============================] - 56s 510us/step - loss: 0.0127 - mean_absolute_percentage_error: 487.2517 - mean_absolute_error: 0.0815 - val_loss: 0.0224 - val_mean_absolute_percentage_error: 486.7502 - val_mean_absolute_error: 0.1048\n"
          ],
          "name": "stdout"
        },
        {
          "output_type": "execute_result",
          "data": {
            "text/plain": [
              "<keras.callbacks.History at 0x7fa69be75160>"
            ]
          },
          "metadata": {
            "tags": []
          },
          "execution_count": 70
        }
      ]
    },
    {
      "metadata": {
        "id": "nGOWlqv8wZdh",
        "colab_type": "code",
        "outputId": "33eba1b7-856d-4e10-a40e-387109671450",
        "colab": {
          "base_uri": "https://localhost:8080/",
          "height": 51
        }
      },
      "cell_type": "code",
      "source": [
        "score = model.evaluate(feature_val.reshape(-1, 200, 6), to_categorical(label_val), batch_size=16)"
      ],
      "execution_count": 0,
      "outputs": [
        {
          "output_type": "stream",
          "text": [
            "9317/9317 [==============================] - 1s 145us/step\n"
          ],
          "name": "stdout"
        },
        {
          "output_type": "execute_result",
          "data": {
            "text/plain": [
              "[2.824558524071857, 0.7418697005473865]"
            ]
          },
          "metadata": {
            "tags": []
          },
          "execution_count": 36
        }
      ]
    }
  ]
}